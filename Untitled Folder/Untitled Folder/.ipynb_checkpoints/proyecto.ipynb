{
 "cells": [
  {
   "cell_type": "code",
   "execution_count": 16,
   "metadata": {},
   "outputs": [],
   "source": [
    "import numpy as np\n",
    "import pandas as pd\n",
    "import seaborn as sns\n",
    "import matplotlib.pyplot as plt"
   ]
  },
  {
   "attachments": {},
   "cell_type": "markdown",
   "metadata": {},
   "source": [
    "### Importar datos .npy"
   ]
  },
  {
   "cell_type": "code",
   "execution_count": 17,
   "metadata": {},
   "outputs": [
    {
     "name": "stdout",
     "output_type": "stream",
     "text": [
      "[[2.08500e+05 7.00000e+00 8.56000e+02 8.00000e+00 2.00300e+03 6.50000e+01]\n",
      " [1.81500e+05 6.00000e+00 1.26200e+03 6.00000e+00 1.97600e+03 8.00000e+01]\n",
      " [2.23500e+05 7.00000e+00 9.20000e+02 6.00000e+00 2.00100e+03 6.80000e+01]\n",
      " ...\n",
      " [2.66500e+05 7.00000e+00 1.18800e+03 9.00000e+00 1.94100e+03 6.60000e+01]\n",
      " [1.42125e+05 5.00000e+00 1.07800e+03 5.00000e+00 1.95000e+03 6.80000e+01]\n",
      " [1.47500e+05 5.00000e+00 1.25600e+03 6.00000e+00 1.96500e+03 7.50000e+01]]\n"
     ]
    }
   ],
   "source": [
    "datos_np = np.load('proyecto_training_data.npy')\n",
    "print(datos_np)"
   ]
  },
  {
   "attachments": {},
   "cell_type": "markdown",
   "metadata": {},
   "source": [
    "### 2. Usando sclicing con NumPy separar los datos en 2 datasets: entrenamiento(80 %) y validacion y pruebas(20 %)."
   ]
  },
  {
   "cell_type": "code",
   "execution_count": 10,
   "metadata": {},
   "outputs": [
    {
     "name": "stdout",
     "output_type": "stream",
     "text": [
      "Entrenamiento de datos: (1168, 6)\n",
      "Validación de datos: (146, 6)\n",
      "Probar datos: (146, 6)\n"
     ]
    }
   ],
   "source": [
    "tamanio_entrenamiento = int(0.8 * datos_np.shape[0])\n",
    "dato_entrenamiento = datos_np[:tamanio_entrenamiento, :]\n",
    "\n",
    "validacion_tamanio_dato = datos_np[tamanio_entrenamiento:, :]\n",
    "tamanio_validacion = int(0.5 * validacion_tamanio_dato.shape[0])\n",
    "\n",
    "validacion_dato = validacion_tamanio_dato[:tamanio_validacion, :]\n",
    "probar_datos = validacion_tamanio_dato[tamanio_validacion:, :]\n",
    "\n",
    "# Print the shapes of the resulting datasets\n",
    "print('Entrenamiento de datos:', dato_entrenamiento.shape)\n",
    "print('Validación de datos:', validacion_dato.shape)\n",
    "print('Probar datos:', probar_datos.shape)"
   ]
  },
  {
   "attachments": {},
   "cell_type": "markdown",
   "metadata": {},
   "source": [
    " ### 3 Analisis exploratorio de datos: Para cada variable en el dataset calcular((usando numpy o pandas):"
   ]
  },
  {
   "attachments": {},
   "cell_type": "markdown",
   "metadata": {},
   "source": [
    "### Media"
   ]
  },
  {
   "cell_type": "code",
   "execution_count": 11,
   "metadata": {},
   "outputs": [
    {
     "name": "stdout",
     "output_type": "stream",
     "text": [
      "Media\n",
      "[1.80921196e+05 6.09931507e+00 1.16262671e+03 6.51780822e+00\n",
      " 1.97126781e+03            nan]\n",
      "Maximo\n",
      "[7.550e+05 1.000e+01 4.692e+03 1.400e+01 2.010e+03       nan]\n",
      "Minimo\n",
      "[3.490e+04 1.000e+00 3.340e+02 2.000e+00 1.872e+03       nan]\n",
      "Rango\n",
      "[7.201e+05 9.000e+00 4.358e+03 1.200e+01 1.380e+02       nan]\n",
      "Desviación Estandard\n",
      "[7.94152919e+04 1.38252284e+00 3.86455322e+02 1.62483655e+00\n",
      " 3.01925588e+01            nan]\n"
     ]
    }
   ],
   "source": [
    "\n",
    "# media\n",
    "media = np.mean(datos_np, axis=0)\n",
    "print('Media')\n",
    "print(media)\n",
    "#valor maximo\n",
    "maximo = np.amax(datos_np, axis=0)\n",
    "print('Maximo')\n",
    "print(maximo)\n",
    "#valor minimo\n",
    "minimo = np.amin(datos_np, axis=0)\n",
    "print('Minimo')\n",
    "print(minimo)\n",
    "#rango\n",
    "rango = np.ptp(datos_np, axis=0)\n",
    "print('Rango')\n",
    "print(rango)\n",
    "#Desviación standard\n",
    "desv_estandar = np.std(datos_np, axis=0)\n",
    "print('Desviación Estandard')\n",
    "print(desv_estandar)"
   ]
  },
  {
   "attachments": {},
   "cell_type": "markdown",
   "metadata": {},
   "source": [
    "### 4. Para cada variable en el dataset usar seaborn(funci´on distplot https://seaborn.pydata.org/generated/seaborn.distplot.html) para graficar un histograma de la variable."
   ]
  },
  {
   "cell_type": "code",
   "execution_count": 13,
   "metadata": {},
   "outputs": [
    {
     "data": {
      "image/png": "[encoded data removed]",
      "text/plain": [
       "<Figure size 640x480 with 1 Axes>"
      ]
     },
     "metadata": {},
     "output_type": "display_data"
    }
   ],
   "source": [
    "\n",
    "for i in range(datos_np.shape[1]):\n",
    "    sns.histplot(datos_np[:, i], kde=False)"
   ]
  },
  {
   "attachments": {},
   "cell_type": "markdown",
   "metadata": {},
   "source": [
    "### 5. Para cada variable independiente x :"
   ]
  },
  {
   "attachments": {},
   "cell_type": "markdown",
   "metadata": {},
   "source": [
    "### Calcular el coeficiente de correlacion entre x y y."
   ]
  },
  {
   "cell_type": "code",
   "execution_count": 15,
   "metadata": {},
   "outputs": [
    {
     "name": "stdout",
     "output_type": "stream",
     "text": [
      "Correlacion coeficiente: 0.7909816005838053\n"
     ]
    }
   ],
   "source": [
    "x = datos_np[:, 0]\n",
    "y = datos_np[:, 1]\n",
    "\n",
    "correlacion_coef = np.corrcoef(x, y)[0, 1]\n",
    "\n",
    "print(\"Correlacion coeficiente:\", correlacion_coef)"
   ]
  },
  {
   "attachments": {},
   "cell_type": "markdown",
   "metadata": {},
   "source": [
    "### Graficar x vs y(scatterplot) usando matplotlib."
   ]
  }
 ],
 "metadata": {
  "kernelspec": {
   "display_name": "Python 3",
   "language": "python",
   "name": "python3"
  },
  "language_info": {
   "codemirror_mode": {
    "name": "ipython",
    "version": 3
   },
   "file_extension": ".py",
   "mimetype": "text/x-python",
   "name": "python",
   "nbconvert_exporter": "python",
   "pygments_lexer": "ipython3",
   "version": "3.10.10"
  },
  "orig_nbformat": 4,
  "vscode": {
   "interpreter": {
    "hash": "dd3fc6da61f434c85f3c10c7d54309e9118ff5e9552af843da74c7e5aa776c98"
   }
  }
 },
 "nbformat": 4,
 "nbformat_minor": 2
}
