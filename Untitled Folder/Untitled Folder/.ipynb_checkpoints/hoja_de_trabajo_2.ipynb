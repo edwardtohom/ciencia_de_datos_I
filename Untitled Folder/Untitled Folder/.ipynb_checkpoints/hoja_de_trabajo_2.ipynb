{
 "cells": [
  {
   "attachments": {},
   "cell_type": "markdown",
   "metadata": {},
   "source": [
    "## Hoja de Trabajo #2"
   ]
  },
  {
   "attachments": {},
   "cell_type": "markdown",
   "metadata": {},
   "source": [
    "### Parte #1"
   ]
  },
  {
   "cell_type": "code",
   "execution_count": 5,
   "metadata": {},
   "outputs": [
    {
     "name": "stdout",
     "output_type": "stream",
     "text": [
      "Horas\n",
      "1\n",
      "Minutos\n",
      "40\n",
      "segundos\n",
      "0\n"
     ]
    }
   ],
   "source": [
    "segundos=input(\"Ingrese cantidad de segundos\") #\"3600\"\n",
    "segundos=int(segundos)\n",
    "horas=segundos//3600 # 1\n",
    "sobrante1=segundos%3600 # 65\n",
    "minutos=sobrante1//60 # 1\n",
    "sobrante2=sobrante1%60 #\n",
    "print(\"Horas\")\n",
    "print(horas)\n",
    "print(\"Minutos\")\n",
    "print(minutos)\n",
    "print(\"segundos\")\n",
    "print(sobrante2)\n",
    "\n",
    "\n",
    "\n"
   ]
  }
 ],
 "metadata": {
  "kernelspec": {
   "display_name": "claseviernes030223",
   "language": "python",
   "name": "python3"
  },
  "language_info": {
   "codemirror_mode": {
    "name": "ipython",
    "version": 3
   },
   "file_extension": ".py",
   "mimetype": "text/x-python",
   "name": "python",
   "nbconvert_exporter": "python",
   "pygments_lexer": "ipython3",
   "version": "3.8.16 (default, Jan 17 2023, 22:25:28) [MSC v.1916 64 bit (AMD64)]"
  },
  "orig_nbformat": 4,
  "vscode": {
   "interpreter": {
    "hash": "ce00b8029bfa6265f59e7e9263c64950406e93502b599814d296d7f51d8c05dd"
   }
  }
 },
 "nbformat": 4,
 "nbformat_minor": 2
}
