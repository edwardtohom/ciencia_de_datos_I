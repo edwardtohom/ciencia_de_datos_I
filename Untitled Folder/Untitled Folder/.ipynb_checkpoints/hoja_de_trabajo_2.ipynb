{
 "cells": [
  {
   "attachments": {},
   "cell_type": "markdown",
   "metadata": {},
   "source": [
    "## Hoja de Trabajo #2"
   ]
  },
  {
   "attachments": {},
   "cell_type": "markdown",
   "metadata": {},
   "source": [
    "### Parte #1\n",
    "Haga un programa en Python que reciba de par´ametro un nu´mero de segundos y que desplie\u0002gue en pantalla, las horas, minutos y segundos que representan. Por ejemplo:\n",
    "Si el nu´mero de segundos recibidos fuera: 2743 entonces su programa deber´ıa desplegar:\n",
    "Horas: 0, Minutos: 45 , Segundos: 43\n",
    "Si el nu´mero de segundos recibidos fuera 5871: Horas: 1, Minutos: 37 , Segundos: 51"
   ]
  },
  {
   "cell_type": "code",
   "execution_count": 5,
   "metadata": {},
   "outputs": [
    {
     "name": "stdout",
     "output_type": "stream",
     "text": [
      "Horas\n",
      "1\n",
      "Minutos\n",
      "40\n",
      "segundos\n",
      "0\n"
     ]
    }
   ],
   "source": [
    "segundos=input(\"Ingrese cantidad de segundos\") #\"3600\"\n",
    "segundos=int(segundos)\n",
    "horas=segundos//3600 # 1\n",
    "sobrante1=segundos%3600 # 65\n",
    "minutos=sobrante1//60 # 1\n",
    "sobrante2=sobrante1%60 #\n",
    "print(\"Horas\")\n",
    "print(horas)\n",
    "print(\"Minutos\")\n",
    "print(minutos)\n",
    "print(\"segundos\")\n",
    "print(sobrante2)\n",
    "\n",
    "\n",
    "\n"
   ]
  },
  {
   "attachments": {},
   "cell_type": "markdown",
   "metadata": {},
   "source": [
    "### Número 2\n",
    "Haga una funci´on en Python que dado un nu´mero entre 1 y 20. Y un car´acter cualquiera\n",
    "despliegue cuatro patrones triangulares."
   ]
  },
  {
   "cell_type": "code",
   "execution_count": 12,
   "metadata": {},
   "outputs": [
    {
     "name": "stdout",
     "output_type": "stream",
     "text": [
      "*\n",
      "**\n",
      "***\n",
      "****\n",
      "\n",
      "\n",
      "****\n",
      "***\n",
      "**\n",
      "*\n",
      "\n",
      "\n",
      "    \n",
      "   *\n",
      "  **\n",
      " ***\n",
      "****\n",
      "\n",
      "\n",
      "*****\n",
      "****\n",
      " ***\n",
      "  **\n",
      "   *\n"
     ]
    }
   ],
   "source": [
    "def triangulo(x):\n",
    "    for i in range(0,x,1):\n",
    "        for j in range(0,i+1,1):\n",
    "            print(\"*\", end=\"\")\n",
    "        print(\"\")\n",
    "    print(\"\\n\")\n",
    "\n",
    "    for i in range(x,0,-1):\n",
    "        for j in range(0,i,1):\n",
    "            print(\"*\", end=\"\")\n",
    "        print(\"\")\n",
    "    print(\"\\n\")\n",
    "\n",
    "    for i in range(x,-1,-1):\n",
    "        for j in range(i):\n",
    "            print(\" \", end=\"\")\n",
    "        for k in range(i,x):\n",
    "            print(\"*\", end=\"\")\n",
    "        print(\"\")\n",
    "    print(\"\\n\")\n",
    "    \n",
    "    for i in range(x,-1,-1):\n",
    "        for j in range(x - i - 1):\n",
    "            print(\" \", end=\"\")\n",
    "        for k in range(i+1):\n",
    "            print(\"*\", end=\"\")\n",
    "        print(\"\")\n",
    "\n",
    "x=int(input(\"Introduce un numero: \"))\n",
    "triangulo(x)\n",
    "\n",
    "\n",
    "        "
   ]
  },
  {
   "attachments": {},
   "cell_type": "markdown",
   "metadata": {},
   "source": [
    "## Numero 3\n",
    "3. Haga un programa en Python que la fecha de nacimiento de una persona (puede ingresar por\n",
    "separado cada valor, es decir pedir primero d´ıa, luego mes y luego an˜o), despliegue la edad\n",
    "de la persona en an˜os, meses y d´ıas. Su resultado puede ser aproximado"
   ]
  },
  {
   "cell_type": "code",
   "execution_count": 1,
   "metadata": {},
   "outputs": [
    {
     "name": "stdout",
     "output_type": "stream",
     "text": [
      "Valor de edad: 23\n",
      "\n"
     ]
    }
   ],
   "source": [
    "\n",
    "\n",
    "anno_actual = int (input ('Ingresa el valor de anno actual: '))\n",
    "anno_de_nacimiento = int (input ('Ingresa el valor de anno de nacimiento: '))\n",
    "dia_actual = int (input ('Ingresa el valor de dia actual: '))\n",
    "dia_de_nacimiento = int (input ('Ingresa el valor de dia de nacimiento: '))\n",
    "mes_actual = int (input ('Ingresa el valor de mes actual: '))\n",
    "mes_de_nacimiento = int (input ('Ingresa el valor de mes de nacimiento: '))\n",
    "edad=anno_actual-anno_de_nacimiento\n",
    "if mes_de_nacimiento>mes_actual or (mes_de_nacimiento==mes_actual and dia_de_nacimiento>dia_actual):\n",
    "    edad=edad-1\n",
    "print ('Valor de edad: ' + repr (edad))\n",
    "print ()\n"
   ]
  },
  {
   "attachments": {},
   "cell_type": "markdown",
   "metadata": {},
   "source": [
    "## Número 4\n",
    "4. Escriba una funci´on en Python que dada una tupla de elementos (nu´meros o letras) esta se\n",
    "convierta a un string. Tomar nota del siguiente ejemplo:\n",
    "Si la entrada fuera: (10, 20, 40, 5, 70)\n",
    "La salida deber´ıa ser: 102040570"
   ]
  },
  {
   "cell_type": "code",
   "execution_count": 16,
   "metadata": {},
   "outputs": [
    {
     "name": "stdout",
     "output_type": "stream",
     "text": [
      "<class 'str'>\n",
      "102040570\n"
     ]
    }
   ],
   "source": [
    "tupla = ('10', '20', '40', '5', '70')\n",
    "unir = ''.join(tupla)\n",
    "print(type(unir))\n",
    "print(unir)\n"
   ]
  },
  {
   "attachments": {},
   "cell_type": "markdown",
   "metadata": {},
   "source": [
    "### Número 5. \n",
    " Cree un programa en Python que dada una lista de tuplas, elimine las tuplas que est´an vac´ıas"
   ]
  },
  {
   "cell_type": "code",
   "execution_count": 21,
   "metadata": {},
   "outputs": [
    {
     "name": "stdout",
     "output_type": "stream",
     "text": [
      "[(), (), ('X',), ('a', 'b'), ('a', 'b', 'c'), 'd']\n",
      "6\n",
      "\n",
      "[('X',), ('a', 'b'), ('a', 'b', 'c'), 'd']\n",
      "4\n"
     ]
    }
   ],
   "source": [
    "tuplas = [(), (), ('X',), ('a', 'b'), ('a', 'b', 'c'), ('d')]\n",
    "#mostrar tuplas y su logitud\n",
    "print(tuplas)\n",
    "print(len(tuplas))\n",
    "print()\n",
    "#eliminar tuplas vacias\n",
    "tuplas = [t for t in tuplas if t]\n",
    "print(tuplas)\n",
    "print(len(tuplas))"
   ]
  }
 ],
 "metadata": {
  "kernelspec": {
   "display_name": "claseviernes030223",
   "language": "python",
   "name": "python3"
  },
  "language_info": {
   "codemirror_mode": {
    "name": "ipython",
    "version": 3
   },
   "file_extension": ".py",
   "mimetype": "text/x-python",
   "name": "python",
   "nbconvert_exporter": "python",
   "pygments_lexer": "ipython3",
   "version": "3.8.16"
  },
  "orig_nbformat": 4,
  "vscode": {
   "interpreter": {
    "hash": "ce00b8029bfa6265f59e7e9263c64950406e93502b599814d296d7f51d8c05dd"
   }
  }
 },
 "nbformat": 4,
 "nbformat_minor": 2
}
