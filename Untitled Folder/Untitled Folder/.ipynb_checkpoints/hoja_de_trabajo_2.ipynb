{
 "cells": [
  {
   "attachments": {},
   "cell_type": "markdown",
   "metadata": {},
   "source": [
    "## Hoja de Trabajo #2"
   ]
  },
  {
   "attachments": {},
   "cell_type": "markdown",
   "metadata": {},
   "source": [
    "### Parte #1\n",
    "Haga un programa en Python que reciba de par´ametro un nu´mero de segundos y que desplie\u0002gue en pantalla, las horas, minutos y segundos que representan. Por ejemplo:\n",
    "Si el nu´mero de segundos recibidos fuera: 2743 entonces su programa deber´ıa desplegar:\n",
    "Horas: 0, Minutos: 45 , Segundos: 43\n",
    "Si el nu´mero de segundos recibidos fuera 5871: Horas: 1, Minutos: 37 , Segundos: 51"
   ]
  },
  {
   "cell_type": "code",
   "execution_count": 5,
   "metadata": {},
   "outputs": [
    {
     "name": "stdout",
     "output_type": "stream",
     "text": [
      "Horas\n",
      "1\n",
      "Minutos\n",
      "40\n",
      "segundos\n",
      "0\n"
     ]
    }
   ],
   "source": [
    "segundos=input(\"Ingrese cantidad de segundos\") #\"3600\"\n",
    "segundos=int(segundos)\n",
    "horas=segundos//3600 # 1\n",
    "sobrante1=segundos%3600 # 65\n",
    "minutos=sobrante1//60 # 1\n",
    "sobrante2=sobrante1%60 #\n",
    "print(\"Horas\")\n",
    "print(horas)\n",
    "print(\"Minutos\")\n",
    "print(minutos)\n",
    "print(\"segundos\")\n",
    "print(sobrante2)\n",
    "\n",
    "\n",
    "\n"
   ]
  },
  {
   "attachments": {},
   "cell_type": "markdown",
   "metadata": {},
   "source": [
    "### Número 2\n",
    "Haga una funci´on en Python que dado un nu´mero entre 1 y 20. Y un car´acter cualquiera\n",
    "despliegue cuatro patrones triangulares."
   ]
  },
  {
   "cell_type": "code",
   "execution_count": 12,
   "metadata": {},
   "outputs": [
    {
     "name": "stdout",
     "output_type": "stream",
     "text": [
      "*\n",
      "**\n",
      "***\n",
      "****\n",
      "\n",
      "\n",
      "****\n",
      "***\n",
      "**\n",
      "*\n",
      "\n",
      "\n",
      "    \n",
      "   *\n",
      "  **\n",
      " ***\n",
      "****\n",
      "\n",
      "\n",
      "*****\n",
      "****\n",
      " ***\n",
      "  **\n",
      "   *\n"
     ]
    }
   ],
   "source": [
    "def triangulo(x):\n",
    "    for i in range(0,x,1):\n",
    "        for j in range(0,i+1,1):\n",
    "            print(\"*\", end=\"\")\n",
    "        print(\"\")\n",
    "    print(\"\\n\")\n",
    "\n",
    "    for i in range(x,0,-1):\n",
    "        for j in range(0,i,1):\n",
    "            print(\"*\", end=\"\")\n",
    "        print(\"\")\n",
    "    print(\"\\n\")\n",
    "\n",
    "    for i in range(x,-1,-1):\n",
    "        for j in range(i):\n",
    "            print(\" \", end=\"\")\n",
    "        for k in range(i,x):\n",
    "            print(\"*\", end=\"\")\n",
    "        print(\"\")\n",
    "    print(\"\\n\")\n",
    "    \n",
    "    for i in range(x,-1,-1):\n",
    "        for j in range(x - i - 1):\n",
    "            print(\" \", end=\"\")\n",
    "        for k in range(i+1):\n",
    "            print(\"*\", end=\"\")\n",
    "        print(\"\")\n",
    "\n",
    "x=int(input(\"Introduce un numero: \"))\n",
    "triangulo(x)\n",
    "\n",
    "\n",
    "        "
   ]
  },
  {
   "attachments": {},
   "cell_type": "markdown",
   "metadata": {},
   "source": [
    "## Numero 3\n",
    "3. Haga un programa en Python que la fecha de nacimiento de una persona (puede ingresar por\n",
    "separado cada valor, es decir pedir primero d´ıa, luego mes y luego an˜o), despliegue la edad\n",
    "de la persona en an˜os, meses y d´ıas. Su resultado puede ser aproximado"
   ]
  },
  {
   "cell_type": "code",
   "execution_count": 1,
   "metadata": {},
   "outputs": [
    {
     "name": "stdout",
     "output_type": "stream",
     "text": [
      "Valor de edad: 23\n",
      "\n"
     ]
    }
   ],
   "source": [
    "\n",
    "\n",
    "anno_actual = int (input ('Ingresa el valor de anno actual: '))\n",
    "anno_de_nacimiento = int (input ('Ingresa el valor de anno de nacimiento: '))\n",
    "dia_actual = int (input ('Ingresa el valor de dia actual: '))\n",
    "dia_de_nacimiento = int (input ('Ingresa el valor de dia de nacimiento: '))\n",
    "mes_actual = int (input ('Ingresa el valor de mes actual: '))\n",
    "mes_de_nacimiento = int (input ('Ingresa el valor de mes de nacimiento: '))\n",
    "edad=anno_actual-anno_de_nacimiento\n",
    "if mes_de_nacimiento>mes_actual or (mes_de_nacimiento==mes_actual and dia_de_nacimiento>dia_actual):\n",
    "    edad=edad-1\n",
    "print ('Valor de edad: ' + repr (edad))\n",
    "print ()\n"
   ]
  },
  {
   "attachments": {},
   "cell_type": "markdown",
   "metadata": {},
   "source": [
    "## Número 4\n",
    "4. Escriba una funci´on en Python que dada una tupla de elementos (nu´meros o letras) esta se\n",
    "convierta a un string. Tomar nota del siguiente ejemplo:\n",
    "Si la entrada fuera: (10, 20, 40, 5, 70)\n",
    "La salida deber´ıa ser: 102040570"
   ]
  },
  {
   "cell_type": "code",
   "execution_count": 16,
   "metadata": {},
   "outputs": [
    {
     "name": "stdout",
     "output_type": "stream",
     "text": [
      "<class 'str'>\n",
      "102040570\n"
     ]
    }
   ],
   "source": [
    "tupla = ('10', '20', '40', '5', '70')\n",
    "unir = ''.join(tupla) #unir tupla\n",
    "print(type(unir))#define la clase de variable\n",
    "print(unir)\n"
   ]
  },
  {
   "attachments": {},
   "cell_type": "markdown",
   "metadata": {},
   "source": [
    "### Número 5. \n",
    " Cree un programa en Python que dada una lista de tuplas, elimine las tuplas que est´an vac´ıas"
   ]
  },
  {
   "cell_type": "code",
   "execution_count": 21,
   "metadata": {},
   "outputs": [
    {
     "name": "stdout",
     "output_type": "stream",
     "text": [
      "[(), (), ('X',), ('a', 'b'), ('a', 'b', 'c'), 'd']\n",
      "6\n",
      "\n",
      "[('X',), ('a', 'b'), ('a', 'b', 'c'), 'd']\n",
      "4\n"
     ]
    }
   ],
   "source": [
    "tuplas = [(), (), ('X',), ('a', 'b'), ('a', 'b', 'c'), ('d')]\n",
    "#mostrar tuplas y su logitud\n",
    "print(tuplas)\n",
    "print(len(tuplas))\n",
    "print()\n",
    "#eliminar tuplas vacias\n",
    "tuplas = [t for t in tuplas if t]\n",
    "print(tuplas)\n",
    "print(len(tuplas))"
   ]
  },
  {
   "attachments": {},
   "cell_type": "markdown",
   "metadata": {},
   "source": [
    "### Número 6\n",
    "Cree una funci´on en Python que dada una tupla de tuplas con nu´meros, produzca una tupla\n",
    "con el promedio de cada tupla individual. Tomar nota del siguiente ejemplo:"
   ]
  },
  {
   "cell_type": "code",
   "execution_count": 14,
   "metadata": {},
   "outputs": [
    {
     "name": "stdout",
     "output_type": "stream",
     "text": [
      "Tupla: \n",
      "((10, 10, 10, 12), (30, 45, 56, 45), (81, 80, 39, 32))\n",
      "\n",
      "Promedio de las tuplas:\n",
      " [10.5, 44.0, 58.0]\n"
     ]
    }
   ],
   "source": [
    "def promedio(numeros):\n",
    "    result = [sum(x) / len(x) for x in numeros]\n",
    "    return result\n",
    "\n",
    "numeros = ((10, 10, 10, 12), (30, 45, 56, 45), (81, 80, 39, 32))\n",
    "print (\"Tupla: \")\n",
    "print(numeros)\n",
    "print(\"\\nPromedio de las tuplas:\\n\",promedio(numeros))"
   ]
  },
  {
   "attachments": {},
   "cell_type": "markdown",
   "metadata": {},
   "source": [
    "Número 7\n",
    "Escribir un programa que gestione las facturas pendientes de cobro de una empresa. Las\n",
    "facturas se almacenar´an en un diccionario donde la llave de cada factura ser´a el nu´mero de\n",
    "factura (debe utilizar un numero de 4 d´ıgitos) y el valor el coste de la factura. El programa\n",
    "debe preguntar al usuario si quiere an˜adir una nueva factura, pagar una existente o terminar.\n",
    "Si desea an˜adir una nueva factura se preguntar´a por el nu´mero de factura y su coste y se\n",
    "an˜adir´a al diccionario, para confirmar que la factura se ingreso correctamente el programa\n",
    "debe desplegar el diccionario completo. Si se desea pagar una factura se preguntar´a por el\n",
    "nu´mero de factura y se eliminar´a del diccionario. Despu´es de cada operaci´on el programa\n",
    "debe mostrar en pantalla la cantidad cobrada hasta el momento y la cantidad pendiente de\n",
    "cobro. Puede utilizar otras estructuras de datos como apoyo si lo considera necesario"
   ]
  },
  {
   "cell_type": "code",
   "execution_count": 18,
   "metadata": {},
   "outputs": [
    {
     "name": "stdout",
     "output_type": "stream",
     "text": [
      "Recaudado: 0\n",
      "Pendiente de cobro:  0\n",
      "Recaudado: 0\n",
      "Pendiente de cobro:  10.0\n",
      "Recaudado: 0\n",
      "Pendiente de cobro:  30.0\n",
      "Recaudado: 0\n",
      "Pendiente de cobro:  60.0\n",
      "Recaudado: 10.0\n",
      "Pendiente de cobro:  50.0\n"
     ]
    }
   ],
   "source": [
    "\n",
    "factura = {}\n",
    "collectar = 0\n",
    "sobrante = 0\n",
    "ingreso = ''\n",
    "while ingreso != 'T':\n",
    "    if ingreso == 'A':\n",
    "        num_fact = input('Introduce el número de la factura: ')\n",
    "        costo = float(input('Introduce el coste de la factura: '))\n",
    "        factura[num_fact] = costo\n",
    "        sobrante += costo\n",
    "    if ingreso == 'P':\n",
    "        num_fact = input('Introduce el número de la factura a pagar: ')\n",
    "        costo = factura.pop(num_fact, 0)\n",
    "        collectar += costo\n",
    "        sobrante -= costo\n",
    "    print('Recaudado:', collectar)\n",
    "    print('Pendiente de cobro: ', sobrante)\n",
    "    ingreso = input('¿Quieres añadir una nueva factura (A), pagarla (P) o terminar (T)? ')"
   ]
  },
  {
   "attachments": {},
   "cell_type": "markdown",
   "metadata": {},
   "source": [
    "## Número 8\n",
    "Haga una funci´on en Python, que cree un set con todas las cartas de una baraja de Poc\u0002ker utilizando el siguiente formato: Tipo-Numero. Utilice las letras T para tr´eboles, C para\n",
    "corazones, P para picas y E para espadas. Para los nu´meros utilice la numeraci´on del 1 al\n",
    "13. Por ejemplo E13 - ser´ıa Rey de Espadas, P01 ser´ıa As de Picas, T05 ser´ıa cinco de Tr´eboles.\n",
    "Posteriormente cree una funci´on que dado el conjunto anterior cree dos sets nuevos de cartas,\n",
    "cada conjunto debe tener una cantidad variable de elementos, puede utilizar nu´meros aleato\u0002rios enteros para definir la longitud de los conjuntos.\n",
    "Adicionalmente, deber´a calcular la probabilidad de la intersecci´on de ambos conjuntos y de\u0002muestre si son eventos independientes con la regla del producto.\n",
    "Para concluir, calcule probabilidad de la uni´on de ambos conjuntos y demuestre que se cumple\n",
    "la regla de la adici´on"
   ]
  },
  {
   "cell_type": "code",
   "execution_count": 48,
   "metadata": {},
   "outputs": [
    {
     "name": "stdout",
     "output_type": "stream",
     "text": [
      "QC 4T 10C 9T 10T 6P 5P JC KT 6T 3P JT 7P AE 2C AP 7C 8E 2T QT 9P 2P QP KC KP 4E 6E 8T JP 2E 9E 6C 9C 7T 10P AC 7E 4P 5C 3T 3E JE 5T AT 4C KE 10E 3C QE 5E 8C 8P "
     ]
    }
   ],
   "source": [
    "#inicio A Mostrar la baraja de cartas\n",
    "import random\n",
    "bara = []\n",
    "for s in ['T', 'C', 'P', 'E']:\n",
    "    for r in ['2', '3', '4', '5', '6', '7', '8', '9', '10', 'J', 'Q', 'K', 'A']:\n",
    "        bara.append(r+s)\n",
    "for z in range(len(bara)):\n",
    "    c1=bara[z]\n",
    "    rand=random.randint(0, len(bara)-1)\n",
    "    c2=bara[rand]\n",
    "    bara[z]=c2\n",
    "    bara[rand]=c1\n",
    "for tar in bara:\n",
    "    print(tar, end=' ')\n",
    "\n"
   ]
  },
  {
   "cell_type": "code",
   "execution_count": 49,
   "metadata": {},
   "outputs": [
    {
     "name": "stdout",
     "output_type": "stream",
     "text": [
      "existen 52 cartas in la baraja\n",
      "barajeando....\n",
      "existen 42 cartas in la baraja\n",
      "jugador 1:\n",
      "['9P', '4T', 'QP', '3E', 'QT']\n",
      "jugador 2:\n",
      "['6C', '6T', '4C', '10C', '4P']\n"
     ]
    }
   ],
   "source": [
    "#inicio B mostrar dos barajas de cartas al azar con n cartas\n",
    "import random\n",
    "\n",
    "simbolos = [\"T\", \"C\", \"P\", \"E\"]\n",
    "num_cars = [\"2\", \"3\", \"4\", \"5\", \"6\", \"7\", \"8\", \"9\", \"10\", \"J\", \"Q\", \"K\", \"A\"]\n",
    "baraja = []\n",
    "\n",
    "for simbolo in simbolos:\n",
    "  for num_car in num_cars:\n",
    "    baraja.append(f'{num_car}{simbolo}')\n",
    "\n",
    "print(f'existen {len(baraja)} cartas in la baraja')\n",
    "print ('barajeando....')\n",
    "\n",
    "jugador1 = []\n",
    "jugador2 = []\n",
    "\n",
    "while len(jugador1) < 5:\n",
    "    carta = random.choice(baraja)\n",
    "    baraja.remove(carta)\n",
    "    jugador1.append(carta)\n",
    "    carta2 = random.choice(baraja)\n",
    "    baraja.remove(carta2)\n",
    "    jugador2.append(carta2)\n",
    "\n",
    "print(f'existen {len(baraja)} cartas in la baraja')\n",
    "print('jugador 1:')\n",
    "print(jugador1)\n",
    "print('jugador 2:')\n",
    "print(jugador2)\n",
    "\n",
    "\n",
    "\n",
    "\n",
    "\n",
    "    \n",
    "\n"
   ]
  }
 ],
 "metadata": {
  "kernelspec": {
   "display_name": "claseviernes030223",
   "language": "python",
   "name": "python3"
  },
  "language_info": {
   "codemirror_mode": {
    "name": "ipython",
    "version": 3
   },
   "file_extension": ".py",
   "mimetype": "text/x-python",
   "name": "python",
   "nbconvert_exporter": "python",
   "pygments_lexer": "ipython3",
   "version": "3.8.16"
  },
  "orig_nbformat": 4,
  "vscode": {
   "interpreter": {
    "hash": "ce00b8029bfa6265f59e7e9263c64950406e93502b599814d296d7f51d8c05dd"
   }
  }
 },
 "nbformat": 4,
 "nbformat_minor": 2
}
