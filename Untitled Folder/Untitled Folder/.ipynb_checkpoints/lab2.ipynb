{
 "cells": [
  {
   "cell_type": "code",
   "execution_count": 3,
   "metadata": {},
   "outputs": [],
   "source": [
    "import cv2"
   ]
  },
  {
   "cell_type": "code",
   "execution_count": 3,
   "metadata": {},
   "outputs": [
    {
     "name": "stdout",
     "output_type": "stream",
     "text": [
      "Binarización completada y guardada en C:/Users/crs/Untitled Folder/Untitled Folder/.ipynb_checkpoints/imagen_binarizada.jpg\n"
     ]
    }
   ],
   "source": [
    "\n",
    "def binarizar_imagen(imagen, ruta_salida, umbral):\n",
    "    try:\n",
    "        # Convertir la imagen a escala de grises\n",
    "        imagen_gris = cv2.cvtColor(imagen, cv2.COLOR_BGR2GRAY)\n",
    "        \n",
    "        # Aplicar la binarización utilizando el umbral proporcionado\n",
    "        _, imagen_binarizada = cv2.threshold(imagen_gris, umbral, 255, cv2.THRESH_BINARY)\n",
    "        \n",
    "        # Guardar la imagen binarizada\n",
    "        cv2.imwrite(ruta_salida, imagen_binarizada)\n",
    "        \n",
    "        print(\"Binarización completada y guardada en\", ruta_salida)\n",
    "    \n",
    "    except Exception as e:\n",
    "        print(\"Error:\", str(e))\n",
    "\n",
    "# Cargar la imagen\n",
    "ruta_imagen = \"imagen1.jpg\"\n",
    "imagen_cargada = cv2.imread(ruta_imagen)\n",
    "\n",
    "# Ejemplo de uso\n",
    "ruta_imagen_salida = 'C:/Users/crs/Untitled Folder/Untitled Folder/.ipynb_checkpoints/imagen_binarizada.jpg'\n",
    "valor_umbral = 128  # Puedes ajustar este valor según tus necesidades\n",
    "\n",
    "binarizar_imagen(imagen_cargada, ruta_imagen_salida, valor_umbral)\n"
   ]
  },
  {
   "cell_type": "code",
   "execution_count": 2,
   "metadata": {},
   "outputs": [],
   "source": [
    "def operaciones_logicas(imagen1, imagen2):\n",
    "    try:\n",
    "        # Leer las imágenes\n",
    "        img1 = cv2.imread(imagen1)\n",
    "        img2 = cv2.imread(imagen2)\n",
    "        \n",
    "        # Verificar que las imágenes tengan las mismas dimensiones\n",
    "        if img1.shape != img2.shape:\n",
    "            print(\"Las imágenes deben tener las mismas dimensiones\")\n",
    "            return\n",
    "        \n",
    "        # Convertir las imágenes a escala de grises\n",
    "        gray_img1 = cv2.cvtColor(img1, cv2.COLOR_BGR2GRAY)\n",
    "        gray_img2 = cv2.cvtColor(img2, cv2.COLOR_BGR2GRAY)\n",
    "        \n",
    "        # Binarizar las imágenes\n",
    "        _, binarized_img1 = cv2.threshold(gray_img1, 128, 255, cv2.THRESH_BINARY)\n",
    "        _, binarized_img2 = cv2.threshold(gray_img2, 128, 255, cv2.THRESH_BINARY)\n",
    "        \n",
    "        # Realizar las operaciones lógicas\n",
    "        suma = cv2.add(binarized_img1, binarized_img2)\n",
    "        resta = cv2.subtract(binarized_img1, binarized_img2)\n",
    "        bitwise_and = cv2.bitwise_and(binarized_img1, binarized_img2)\n",
    "        bitwise_or = cv2.bitwise_or(binarized_img1, binarized_img2)\n",
    "        bitwise_xor = cv2.bitwise_xor(binarized_img1, binarized_img2)\n",
    "        \n",
    "        # Función para mostrar y guardar imágenes\n",
    "        def write_show_img(nombre, imagen):\n",
    "            cv2.imshow(nombre, imagen)\n",
    "            cv2.imwrite(nombre + \".jpg\", imagen)\n",
    "        \n",
    "        # Mostrar y guardar los resultados\n",
    "        write_show_img(\"Suma\", suma)\n",
    "        write_show_img(\"Resta\", resta)\n",
    "        write_show_img(\"AND\", bitwise_and)\n",
    "        write_show_img(\"OR\", bitwise_or)\n",
    "        write_show_img(\"XOR\", bitwise_xor)\n",
    "        \n",
    "        cv2.waitKey(0)\n",
    "        cv2.destroyAllWindows()\n",
    "        \n",
    "    except Exception as e:\n",
    "        print(\"Error:\", str(e))\n",
    "\n",
    "# Ejemplo de uso\n",
    "imagen1 = \"image1.jpg\"\n",
    "imagen2 = \"image2.jpg\"\n",
    "\n",
    "operaciones_logicas(imagen1, imagen2)\n",
    "\n"
   ]
  }
 ],
 "metadata": {
  "kernelspec": {
   "display_name": "Python 3",
   "language": "python",
   "name": "python3"
  },
  "language_info": {
   "codemirror_mode": {
    "name": "ipython",
    "version": 3
   },
   "file_extension": ".py",
   "mimetype": "text/x-python",
   "name": "python",
   "nbconvert_exporter": "python",
   "pygments_lexer": "ipython3",
   "version": "3.10.11"
  },
  "orig_nbformat": 4,
  "vscode": {
   "interpreter": {
    "hash": "dd3fc6da61f434c85f3c10c7d54309e9118ff5e9552af843da74c7e5aa776c98"
   }
  }
 },
 "nbformat": 4,
 "nbformat_minor": 2
}
