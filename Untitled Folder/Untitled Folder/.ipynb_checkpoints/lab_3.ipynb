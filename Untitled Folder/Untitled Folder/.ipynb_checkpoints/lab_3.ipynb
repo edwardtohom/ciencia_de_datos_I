{
 "cells": [
  {
   "attachments": {},
   "cell_type": "markdown",
   "metadata": {},
   "source": [
    "### 1) ¿Cuál es el tamaño en bytes de un array de 1000 elementos de tipo booleano?\n",
    "Cada elemento booleano normalmente requiere 1 byte de memoria. Sin embargo, dependiendo del lenguaje de programación y la implementación, el tamaño de un booleano puede variar.\n",
    "\n",
    "Suponiendo que cada elemento booleano requiere 1 byte de memoria, el tamaño de una matriz de 1000 elementos booleanos sería de 1000 bytes.\n",
    "\n",
    "Sin embargo, si el lenguaje de programación utiliza un tamaño diferente para los elementos booleanos, el tamaño de la matriz puede ser diferente."
   ]
  },
  {
   "attachments": {},
   "cell_type": "markdown",
   "metadata": {},
   "source": [
    "### 2) Cree un array cuyos elementos sean los enteros pares en [1,100] y en orden decreciente. Muestre los 10 últimos por pantalla."
   ]
  },
  {
   "cell_type": "code",
   "execution_count": 1,
   "metadata": {},
   "outputs": [
    {
     "name": "stdout",
     "output_type": "stream",
     "text": [
      "10 últimos números:\n",
      "[20, 18, 16, 14, 12, 10, 8, 6, 4, 2]\n"
     ]
    }
   ],
   "source": [
    "numeros_par = []\n",
    "for i in range(100, 0, -2):\n",
    "    numeros_par.append(i)\n",
    "\n",
    "print(\"10 últimos números:\")\n",
    "print(numeros_par[-10:])\n"
   ]
  },
  {
   "attachments": {},
   "cell_type": "markdown",
   "metadata": {},
   "source": [
    "### 3) Dado el array\n",
    "2 4 5 6\n",
    "0 3 7 4\n",
    "8 8 5 2\n",
    "1 5 6 1\n",
    "Seleccione con una instrucción el subarray de elementos\n",
    "0 3 7 4\n",
    "Después, seleccione el subarray de elementos\n",
    "2 5\n",
    "8 5"
   ]
  },
  {
   "cell_type": "code",
   "execution_count": 2,
   "metadata": {},
   "outputs": [
    {
     "name": "stdout",
     "output_type": "stream",
     "text": [
      "[0, 3, 7, 4]\n",
      "-----\n"
     ]
    }
   ],
   "source": [
    "import numpy as np\n",
    "arreglo = [2, 4, 5, 6, 0, 3, 7, 4, 8, 8, 5, 2, 1, 5, 6, 1]\n",
    "sub_arreglor = arreglo[4:8]\n",
    "print(sub_arreglor)\n",
    "print('-----')\n",
    "\n",
    "\n"
   ]
  },
  {
   "cell_type": "code",
   "execution_count": 3,
   "metadata": {},
   "outputs": [
    {
     "name": "stdout",
     "output_type": "stream",
     "text": [
      "2\n",
      "5\n",
      "8\n",
      "8\n"
     ]
    }
   ],
   "source": [
    "arreglo = [2, 4, 5, 6, 0, 3, 7, 4, 8, 8, 5, 2, 1, 5, 6, 1]\n",
    "inicio = 8\n",
    "fin = 12\n",
    "\n",
    "for i in range(fin-1, inicio-1, -1):\n",
    "    print(arreglo[i])\n",
    "\n"
   ]
  },
  {
   "attachments": {},
   "cell_type": "markdown",
   "metadata": {},
   "source": [
    "### 4)  Dados los arrays a = [1, 4, 2, 7] y b = [1, 3, 2, 9], obtenga la media aritmética de la diferencia (a-b)."
   ]
  },
  {
   "cell_type": "code",
   "execution_count": 4,
   "metadata": {},
   "outputs": [
    {
     "name": "stdout",
     "output_type": "stream",
     "text": [
      "-0.25\n"
     ]
    }
   ],
   "source": [
    "a = [1, 4, 2, 7]\n",
    "b = [1, 3, 2, 9]\n",
    "\n",
    "diff = np.array(a) - np.array(b)  # resta de eventos a - b\n",
    "diff_media = np.mean(diff)  # calcular media de resta\n",
    "\n",
    "print(diff_media)\n",
    "\n"
   ]
  },
  {
   "cell_type": "code",
   "execution_count": 5,
   "metadata": {},
   "outputs": [
    {
     "name": "stdout",
     "output_type": "stream",
     "text": [
      "(6, 2)\n"
     ]
    }
   ],
   "source": [
    "# nuevo arreglo\n",
    "coords = np.array([[1.33, 4.5],\n",
    "                   [30.0, 10.7],\n",
    "                   [70.2, 0.5],\n",
    "                   [37.1, -3.6]])\n",
    "\n",
    "# definir las nuevas 2 coordenadas\n",
    "nuevas_coord = np.array([[10.8, 3.0],\n",
    "                       [35.8, 12.0]])\n",
    "\n",
    "# agregar las coordenadas al arreglo\n",
    "coords = np.vstack([coords, nuevas_coord])\n",
    "\n",
    "# Mostrar las nuevas dimensiones\n",
    "print(coords.shape)\n"
   ]
  },
  {
   "attachments": {},
   "cell_type": "markdown",
   "metadata": {},
   "source": [
    "### Parte 2: Exploración y Minería de Datos\n",
    "Con el dataset nucleospoblacion.csv adjunto al laboratorio, \n",
    "luego responda las siguientes preguntas usando pandas y \n",
    "matplotlib.\n",
    "1) ¿Cuántos Municipios tienen más de 100000 habitantes?"
   ]
  },
  {
   "cell_type": "code",
   "execution_count": 52,
   "metadata": {},
   "outputs": [
    {
     "data": {
      "text/html": [
       "<div>\n",
       "<style scoped>\n",
       "    .dataframe tbody tr th:only-of-type {\n",
       "        vertical-align: middle;\n",
       "    }\n",
       "\n",
       "    .dataframe tbody tr th {\n",
       "        vertical-align: top;\n",
       "    }\n",
       "\n",
       "    .dataframe thead th {\n",
       "        text-align: right;\n",
       "    }\n",
       "</style>\n",
       "<table border=\"1\" class=\"dataframe\">\n",
       "  <thead>\n",
       "    <tr style=\"text-align: right;\">\n",
       "      <th></th>\n",
       "      <th>FID</th>\n",
       "      <th>OBJECTID</th>\n",
       "      <th>Texto</th>\n",
       "      <th>Poblacion</th>\n",
       "      <th>CodMun</th>\n",
       "      <th>Municipio</th>\n",
       "      <th>CodProvin</th>\n",
       "      <th>Provincia</th>\n",
       "      <th>X</th>\n",
       "      <th>Y</th>\n",
       "    </tr>\n",
       "  </thead>\n",
       "  <tbody>\n",
       "    <tr>\n",
       "      <th>0</th>\n",
       "      <td>0</td>\n",
       "      <td>1</td>\n",
       "      <td>Agüimes</td>\n",
       "      <td>29431.0</td>\n",
       "      <td>35002</td>\n",
       "      <td>Agüimes</td>\n",
       "      <td>35</td>\n",
       "      <td>Las Palmas</td>\n",
       "      <td>-15.446012</td>\n",
       "      <td>27.900542</td>\n",
       "    </tr>\n",
       "    <tr>\n",
       "      <th>1</th>\n",
       "      <td>1</td>\n",
       "      <td>2</td>\n",
       "      <td>Antigua</td>\n",
       "      <td>10458.0</td>\n",
       "      <td>35003</td>\n",
       "      <td>Antigua</td>\n",
       "      <td>35</td>\n",
       "      <td>Las Palmas</td>\n",
       "      <td>-14.013301</td>\n",
       "      <td>28.418966</td>\n",
       "    </tr>\n",
       "    <tr>\n",
       "      <th>2</th>\n",
       "      <td>2</td>\n",
       "      <td>3</td>\n",
       "      <td>Arrecife</td>\n",
       "      <td>58156.0</td>\n",
       "      <td>35004</td>\n",
       "      <td>Arrecife</td>\n",
       "      <td>35</td>\n",
       "      <td>Las Palmas</td>\n",
       "      <td>-13.551451</td>\n",
       "      <td>28.960649</td>\n",
       "    </tr>\n",
       "    <tr>\n",
       "      <th>3</th>\n",
       "      <td>3</td>\n",
       "      <td>4</td>\n",
       "      <td>Arucas</td>\n",
       "      <td>36745.0</td>\n",
       "      <td>35006</td>\n",
       "      <td>Arucas</td>\n",
       "      <td>35</td>\n",
       "      <td>Las Palmas</td>\n",
       "      <td>-15.521512</td>\n",
       "      <td>28.117496</td>\n",
       "    </tr>\n",
       "    <tr>\n",
       "      <th>4</th>\n",
       "      <td>4</td>\n",
       "      <td>5</td>\n",
       "      <td>Gáldar</td>\n",
       "      <td>24473.0</td>\n",
       "      <td>35009</td>\n",
       "      <td>Gáldar</td>\n",
       "      <td>35</td>\n",
       "      <td>Las Palmas</td>\n",
       "      <td>-15.654111</td>\n",
       "      <td>28.143873</td>\n",
       "    </tr>\n",
       "    <tr>\n",
       "      <th>...</th>\n",
       "      <td>...</td>\n",
       "      <td>...</td>\n",
       "      <td>...</td>\n",
       "      <td>...</td>\n",
       "      <td>...</td>\n",
       "      <td>...</td>\n",
       "      <td>...</td>\n",
       "      <td>...</td>\n",
       "      <td>...</td>\n",
       "      <td>...</td>\n",
       "    </tr>\n",
       "    <tr>\n",
       "      <th>847</th>\n",
       "      <td>847</td>\n",
       "      <td>848</td>\n",
       "      <td>Infante Juan Manuel</td>\n",
       "      <td>14192.0</td>\n",
       "      <td>30030</td>\n",
       "      <td>Murcia</td>\n",
       "      <td>30</td>\n",
       "      <td>Murcia</td>\n",
       "      <td>-1.124304</td>\n",
       "      <td>37.979033</td>\n",
       "    </tr>\n",
       "    <tr>\n",
       "      <th>848</th>\n",
       "      <td>848</td>\n",
       "      <td>849</td>\n",
       "      <td>Santa Maria de Gracia</td>\n",
       "      <td>13349.0</td>\n",
       "      <td>30030</td>\n",
       "      <td>Murcia</td>\n",
       "      <td>30</td>\n",
       "      <td>Murcia</td>\n",
       "      <td>-1.202069</td>\n",
       "      <td>37.984024</td>\n",
       "    </tr>\n",
       "    <tr>\n",
       "      <th>849</th>\n",
       "      <td>849</td>\n",
       "      <td>850</td>\n",
       "      <td>Vista Alegre</td>\n",
       "      <td>15208.0</td>\n",
       "      <td>30030</td>\n",
       "      <td>Murcia</td>\n",
       "      <td>30</td>\n",
       "      <td>Murcia</td>\n",
       "      <td>-1.130564</td>\n",
       "      <td>37.995715</td>\n",
       "    </tr>\n",
       "    <tr>\n",
       "      <th>850</th>\n",
       "      <td>850</td>\n",
       "      <td>851</td>\n",
       "      <td>Poligono Sta M de Benquerencia</td>\n",
       "      <td>19177.0</td>\n",
       "      <td>45168</td>\n",
       "      <td>Toledo</td>\n",
       "      <td>45</td>\n",
       "      <td>Toledo</td>\n",
       "      <td>-3.948364</td>\n",
       "      <td>39.866699</td>\n",
       "    </tr>\n",
       "    <tr>\n",
       "      <th>851</th>\n",
       "      <td>851</td>\n",
       "      <td>852</td>\n",
       "      <td>Grao</td>\n",
       "      <td>16367.0</td>\n",
       "      <td>12040</td>\n",
       "      <td>Castellón de la Plana/Castelló de la Plana</td>\n",
       "      <td>12</td>\n",
       "      <td>Castelló/Castellón</td>\n",
       "      <td>0.012911</td>\n",
       "      <td>39.973568</td>\n",
       "    </tr>\n",
       "  </tbody>\n",
       "</table>\n",
       "<p>852 rows × 10 columns</p>\n",
       "</div>"
      ],
      "text/plain": [
       "     FID  OBJECTID                           Texto  Poblacion  CodMun  \\\n",
       "0      0         1                         Agüimes    29431.0   35002   \n",
       "1      1         2                         Antigua    10458.0   35003   \n",
       "2      2         3                        Arrecife    58156.0   35004   \n",
       "3      3         4                          Arucas    36745.0   35006   \n",
       "4      4         5                          Gáldar    24473.0   35009   \n",
       "..   ...       ...                             ...        ...     ...   \n",
       "847  847       848             Infante Juan Manuel    14192.0   30030   \n",
       "848  848       849           Santa Maria de Gracia    13349.0   30030   \n",
       "849  849       850                    Vista Alegre    15208.0   30030   \n",
       "850  850       851  Poligono Sta M de Benquerencia    19177.0   45168   \n",
       "851  851       852                            Grao    16367.0   12040   \n",
       "\n",
       "                                      Municipio  CodProvin  \\\n",
       "0                                       Agüimes         35   \n",
       "1                                       Antigua         35   \n",
       "2                                      Arrecife         35   \n",
       "3                                        Arucas         35   \n",
       "4                                        Gáldar         35   \n",
       "..                                          ...        ...   \n",
       "847                                      Murcia         30   \n",
       "848                                      Murcia         30   \n",
       "849                                      Murcia         30   \n",
       "850                                      Toledo         45   \n",
       "851  Castellón de la Plana/Castelló de la Plana         12   \n",
       "\n",
       "              Provincia          X          Y  \n",
       "0            Las Palmas -15.446012  27.900542  \n",
       "1            Las Palmas -14.013301  28.418966  \n",
       "2            Las Palmas -13.551451  28.960649  \n",
       "3            Las Palmas -15.521512  28.117496  \n",
       "4            Las Palmas -15.654111  28.143873  \n",
       "..                  ...        ...        ...  \n",
       "847              Murcia  -1.124304  37.979033  \n",
       "848              Murcia  -1.202069  37.984024  \n",
       "849              Murcia  -1.130564  37.995715  \n",
       "850              Toledo  -3.948364  39.866699  \n",
       "851  Castelló/Castellón   0.012911  39.973568  \n",
       "\n",
       "[852 rows x 10 columns]"
      ]
     },
     "execution_count": 52,
     "metadata": {},
     "output_type": "execute_result"
    }
   ],
   "source": [
    "import pandas as pd\n",
    "import matplotlib.pyplot as plt\n",
    "df = pd.read_csv('NucleosPoblacion[1].csv')\n",
    "df"
   ]
  },
  {
   "cell_type": "code",
   "execution_count": 7,
   "metadata": {},
   "outputs": [
    {
     "name": "stdout",
     "output_type": "stream",
     "text": [
      "Número de municipios con población superior a 100,000 es:  62\n"
     ]
    }
   ],
   "source": [
    "filtro_df = df.loc[df['Poblacion'] > 100000]\n",
    "distinct_count = filtro_df['Municipio'].nunique()\n",
    "print('Número de municipios con población superior a 100,000 es: ', distinct_count)\n"
   ]
  },
  {
   "attachments": {},
   "cell_type": "markdown",
   "metadata": {},
   "source": [
    "### 2  Realice una gráfica de barras sobre la polbación de cada ciudad"
   ]
  },
  {
   "cell_type": "code",
   "execution_count": 128,
   "metadata": {},
   "outputs": [
    {
     "data": {
      "text/plain": [
       "Text(0, 0.5, 'Población')"
      ]
     },
     "execution_count": 128,
     "metadata": {},
     "output_type": "execute_result"
    },
    {
     "data": {
      "image/png": "[encoded data removed]",
      "text/plain": [
       "<Figure size 640x480 with 1 Axes>"
      ]
     },
     "metadata": {},
     "output_type": "display_data"
    }
   ],
   "source": [
    "\n",
    "\n",
    "# cargar datos a un dataframe\n",
    "datos = pd.DataFrame(df)\n",
    "dos_columnas = datos[['Provincia', 'Poblacion']]\n",
    "dos_columnas\n",
    "# agrupar y sumar\n",
    "agrupar_data = dos_columnas.groupby('Provincia').sum()\n",
    "\n",
    "agrupar_df = dos_columnas.sort_values('Poblacion', ascending=False)\n",
    "\n",
    "\n",
    "# crear la grafica\n",
    "plt.bar(agrupar_df['Provincia'], agrupar_df['Poblacion'])\n",
    "\n",
    "#rotar etiquetas\n",
    "plt.xticks(rotation=90)\n",
    "# etiquetas a valores X y Y\n",
    "plt.title('Top 10 Ciudades con población mayor')\n",
    "plt.xlabel('Provincia')\n",
    "plt.ylabel('Población')\n"
   ]
  },
  {
   "attachments": {},
   "cell_type": "markdown",
   "metadata": {},
   "source": [
    " ### ¿Cuál es la segunda ciudad más poblada?"
   ]
  },
  {
   "cell_type": "code",
   "execution_count": 115,
   "metadata": {},
   "outputs": [
    {
     "name": "stdout",
     "output_type": "stream",
     "text": [
      "La segunda provincia con mayor población es:  Barcelona\n"
     ]
    }
   ],
   "source": [
    "# cargar datos a un dataframe\n",
    "datos = pd.DataFrame(df)\n",
    "dos_columnas = datos[['Provincia', 'Poblacion']]\n",
    "dos_columnas\n",
    "# agrupar y sumar\n",
    "agrupar_data = dos_columnas.groupby('Provincia').sum()\n",
    "\n",
    "agrupar_df = dos_columnas.sort_values('Poblacion', ascending=False)\n",
    "segundo_lugar = agrupar_df['Provincia'].iloc[1]\n",
    "print('La segunda provincia con mayor población es: ', segundo_lugar)"
   ]
  },
  {
   "attachments": {},
   "cell_type": "markdown",
   "metadata": {},
   "source": [
    "### ¿Qué posición ocupa Granada en el ranking de las ciudades más pobladas?"
   ]
  },
  {
   "cell_type": "code",
   "execution_count": null,
   "metadata": {},
   "outputs": [],
   "source": [
    "# cargar datos a un dataframe\n",
    "datos = pd.DataFrame(df)\n",
    "dos_columnas = datos[['Provincia', 'Poblacion']]\n",
    "dos_columnas\n",
    "# agrupar y sumar\n",
    "agrupar_data = dos_columnas.groupby('Provincia').sum()\n",
    "agrupar_df = agrupar_data.sort_values('Poblacion', ascending=True)\n",
    "agrupar_df['ID'] = agrupar_df.reset_index().index\n",
    "agrupar_df\n",
    "\n",
    "\n",
    "\n"
   ]
  },
  {
   "attachments": {},
   "cell_type": "markdown",
   "metadata": {},
   "source": [
    "### 4) ¿Cuál es el municipio situado más al Norte? (Usar el valor de la coordenada \"Y\" que representa la latitud en grados). Proporcione también la provincia a la que pertenece y su población."
   ]
  },
  {
   "cell_type": "code",
   "execution_count": 172,
   "metadata": {},
   "outputs": [
    {
     "name": "stdout",
     "output_type": "stream",
     "text": [
      "El municipio más al norte es:  Viveiro\n"
     ]
    }
   ],
   "source": [
    "datos = pd.DataFrame(df)\n",
    "dos_columnas = datos[['Municipio', 'Y']]\n",
    "lat_alto = datos.loc[datos['Y'].idxmax()]\n",
    "norte = lat_alto['Municipio']\n",
    "print('El municipio más al norte es: ', norte)\n",
    "\n"
   ]
  }
 ],
 "metadata": {
  "kernelspec": {
   "display_name": "Python 3",
   "language": "python",
   "name": "python3"
  },
  "language_info": {
   "codemirror_mode": {
    "name": "ipython",
    "version": 3
   },
   "file_extension": ".py",
   "mimetype": "text/x-python",
   "name": "python",
   "nbconvert_exporter": "python",
   "pygments_lexer": "ipython3",
   "version": "3.10.10 (tags/v3.10.10:aad5f6a, Feb  7 2023, 17:20:36) [MSC v.1929 64 bit (AMD64)]"
  },
  "orig_nbformat": 4,
  "vscode": {
   "interpreter": {
    "hash": "47e86e659cc4c7e7c8281f4dfa198d26eba569ed7d4f5779d5419dff2bd0d92c"
   }
  }
 },
 "nbformat": 4,
 "nbformat_minor": 2
}
