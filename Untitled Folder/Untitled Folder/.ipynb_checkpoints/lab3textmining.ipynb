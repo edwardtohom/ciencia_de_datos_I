{
 "cells": [
  {
   "attachments": {},
   "cell_type": "markdown",
   "metadata": {},
   "source": [
    "## Text Mining & Image Recognition\n",
    "\n",
    "## Laboratorio # 3\n",
    "\n",
    "### Edward Tohom\n",
    "### PAPD Sección V\n",
    "### 23006412"
   ]
  },
  {
   "attachments": {},
   "cell_type": "markdown",
   "metadata": {},
   "source": [
    "### Problema 1:\n",
    "Utilice expresiones regulares para validar las siguintes situaciones:\n",
    "1. Implemente una regex para validar un correo electr´onico en general, a continuaci´on se mues\u0002tran algunos ejemplos.\n",
    "\n",
    "* Guate.360-porelmundo@miguate.com\n",
    "* Miercoles3@hotmail.com\n",
    "* Progra3.galileo@galileo.edu"
   ]
  },
  {
   "cell_type": "code",
   "execution_count": 1,
   "metadata": {},
   "outputs": [
    {
     "name": "stdout",
     "output_type": "stream",
     "text": [
      "Guate.360-porelmundo@miguate.com es una dirección de correo electrónico válida.\n",
      "Miercoles3@hotmail.com es una dirección de correo electrónico válida.\n",
      "Progra3.galileo@galileo.edu es una dirección de correo electrónico válida.\n"
     ]
    }
   ],
   "source": [
    "import re\n",
    "\n",
    "# Expresión regular para validar correos electrónicos\n",
    "regex = r'^[a-zA-Z0-9._%+-]+@[a-zA-Z0-9.-]+\\.[a-zA-Z]{2,}$'\n",
    "\n",
    "# Ejemplos de correos electrónicos a validar\n",
    "correos_ejemplos = [\n",
    "    \"Guate.360-porelmundo@miguate.com\",\n",
    "    \"Miercoles3@hotmail.com\",\n",
    "    \"Progra3.galileo@galileo.edu\"\n",
    "]\n",
    "\n",
    "for correo in correos_ejemplos:\n",
    "    if re.match(regex, correo):\n",
    "        print(f\"{correo} es una dirección de correo electrónico válida.\")\n",
    "    else:\n",
    "        print(f\"{correo} no es una dirección de correo electrónico válida.\")\n"
   ]
  },
  {
   "attachments": {},
   "cell_type": "markdown",
   "metadata": {},
   "source": [
    "\n",
    "2. Implemente una regex para validar la direcci´on url de una p´agina web con los tipos de domino (.com, .org, .edu). Note que la url incluye el protocolo (http o https) y los s´ımbolos (//www.), a continuaci´on se muestran algunos ejemplos:\n",
    "\n",
    "https://www.guate360-porelmundo.com\n",
    "\n",
    "http://www.a2.net\n",
    "\n",
    "https://www.galileo.edu\n",
    "\n",
    "http://www.8.org (No valida)"
   ]
  },
  {
   "cell_type": "code",
   "execution_count": 7,
   "metadata": {},
   "outputs": [
    {
     "name": "stdout",
     "output_type": "stream",
     "text": [
      "https://www.guate360-porelmundo.com es una URL válida.\n",
      "http://www.a2.net no es una URL válida.\n",
      "https://www.galileo.edu es una URL válida.\n",
      "http://www.8.org es una URL válida.\n"
     ]
    }
   ],
   "source": [
    "import re\n",
    "\n",
    "# Expresión regular para validar URLs con los dominios .com, .org, o .edu, excluyendo .8\n",
    "regex = r'^(http|https)://www\\.[a-zA-Z0-9-]+(\\.(com|org|edu))$'\n",
    "\n",
    "# Ejemplos de URLs a validar\n",
    "urls_ejemplos = [\n",
    "    \"https://www.guate360-porelmundo.com\",\n",
    "    \"http://www.a2.net\",\n",
    "    \"https://www.galileo.edu\",\n",
    "    \"http://www.8.org\"\n",
    "]\n",
    "\n",
    "for url in urls_ejemplos:\n",
    "    if re.match(regex, url):\n",
    "        print(f\"{url} es una URL válida.\")\n",
    "    else:\n",
    "        print(f\"{url} no es una URL válida.\")"
   ]
  },
  {
   "attachments": {},
   "cell_type": "markdown",
   "metadata": {},
   "source": [
    "3. Implemente una regex para validar una MAC Address, notar que las mac addres est´an divididas en 6 bloques de caracteres hexadecimales, es decir que los s´ımbolos solo pueden variar del 0 al 9 y las letras de la A a la F. a continuaci´on se muestran algunos ejemplos:\n",
    "\n",
    "5A 6F AF 8C 9B 1D\n",
    "\n",
    "6D 6C 4D 3A EB 3F\n",
    "\n",
    "3A 7C FA C8 6D 4J (no valida por que el ultimo bloque contiene una J)"
   ]
  },
  {
   "cell_type": "code",
   "execution_count": 8,
   "metadata": {},
   "outputs": [
    {
     "name": "stdout",
     "output_type": "stream",
     "text": [
      "5A:6F:AF:8C:9B:1D es una dirección MAC válida.\n",
      "6D-6C-4D-3A-EB-3F es una dirección MAC válida.\n",
      "3A-7C-FA-C8-6D-4J no es una dirección MAC válida.\n"
     ]
    }
   ],
   "source": [
    "import re\n",
    "\n",
    "# Expresión regular para validar direcciones MAC\n",
    "regex = r'^([0-9A-Fa-f]{2}[:-]){5}([0-9A-Fa-f]{2})$'\n",
    "\n",
    "# Ejemplos de direcciones MAC a validar\n",
    "macs_ejemplos = [\n",
    "    \"5A:6F:AF:8C:9B:1D\",\n",
    "    \"6D-6C-4D-3A-EB-3F\",\n",
    "    \"3A-7C-FA-C8-6D-4J\"\n",
    "]\n",
    "\n",
    "for mac in macs_ejemplos:\n",
    "    if re.match(regex, mac):\n",
    "        print(f\"{mac} es una dirección MAC válida.\")\n",
    "    else:\n",
    "        print(f\"{mac} no es una dirección MAC válida.\")\n"
   ]
  },
  {
   "attachments": {},
   "cell_type": "markdown",
   "metadata": {},
   "source": [
    "4. Implemente una regex para validar una direcci´on IPv4, notar que las direcciones IPv4 est´an divididas en 4 bloques de valores los cuales solo pueden ir desde 0 hasta 255, una ip donde algunos de sus bloques sea mayor a 255 no es valida, adem´as tome en cuenta que cada bloque est´a separada por un punto. A continuaci´on se muestran algunos ejemplos:\n",
    "\n",
    "192.16.8.1\n",
    "\n",
    "234.56.78.90\n",
    "\n",
    "1.2.3.4\n",
    "\n",
    "192.168.45.345 (no valida por que el ultimo bloque es mayor a 255)"
   ]
  },
  {
   "cell_type": "code",
   "execution_count": 9,
   "metadata": {},
   "outputs": [
    {
     "name": "stdout",
     "output_type": "stream",
     "text": [
      "192.16.8.1 es una dirección IPv4 válida.\n",
      "234.56.78.90 es una dirección IPv4 válida.\n",
      "1.2.3.4 es una dirección IPv4 válida.\n",
      "192.168.45.345 no es una dirección IPv4 válida.\n"
     ]
    }
   ],
   "source": [
    "import re\n",
    "\n",
    "# Expresión regular para validar direcciones IPv4\n",
    "regex = r'^((25[0-5]|2[0-4][0-9]|[01]?[0-9][0-9]?)\\.){3}(25[0-5]|2[0-4][0-9]|[01]?[0-9][0-9]?)$'\n",
    "\n",
    "# Ejemplos de direcciones IPv4 a validar\n",
    "ips_ejemplos = [\n",
    "    \"192.16.8.1\",\n",
    "    \"234.56.78.90\",\n",
    "    \"1.2.3.4\",\n",
    "    \"192.168.45.345\"\n",
    "]\n",
    "\n",
    "for ip in ips_ejemplos:\n",
    "    if re.match(regex, ip):\n",
    "        print(f\"{ip} es una dirección IPv4 válida.\")\n",
    "    else:\n",
    "        print(f\"{ip} no es una dirección IPv4 válida.\")\n"
   ]
  },
  {
   "attachments": {},
   "cell_type": "markdown",
   "metadata": {},
   "source": [
    "5. Implemente una regex para validar una fecha con la secuencia d´ıa-mes-an˜o donde el d´ıa, mes y an˜o puedan estar separados ya sea por el caracter / o el caracter - o el caracter ., notar que las fechas son validas si los si los d´ıas est´an definidos desde el 1 al 31, el mes del 1 al 12\n",
    "y el an˜o de 2000 al 2019. Tambi´en debe tomar en cuenta que los d´ıas y meses pueden estar escritos ya sea con uno o dos caracteres por ejemplo: Enero puede escribirse como 1 o como 01. Los an˜os tambi´en pueden expresarse ya sea con dos o con cuatro caracteres por ejemplo: 19 o 2019 son validos. \n",
    "A continuaci´on se muestran algunos ejemplos:\n",
    "\n",
    "20/1/2019\n",
    "\n",
    "12.03.2005\n",
    "\n",
    "31-11-08\n",
    "\n",
    "1-1-2012\n",
    "\n",
    "12-12-22 (no valida, por que el an˜o supera al 2019)."
   ]
  },
  {
   "cell_type": "code",
   "execution_count": 10,
   "metadata": {},
   "outputs": [
    {
     "name": "stdout",
     "output_type": "stream",
     "text": [
      "20/1/2019 no es una fecha válida.\n",
      "12.03.2005 es una fecha válida.\n",
      "31-11-08 es una fecha válida.\n",
      "1-1-2012 no es una fecha válida.\n",
      "12-12-22 no es una fecha válida.\n"
     ]
    }
   ],
   "source": [
    "import re\n",
    "# Expresión regular para validar fechas con los formatos especificados\n",
    "regex = r'^(0[1-9]|[12][0-9]|3[01])[/\\.-](0[1-9]|1[0-2])[/\\.-](20\\d{2}|[0-1]\\d)$'\n",
    "# Ejemplos de fechas a validar\n",
    "fechas_ejemplos = [\n",
    "    \"20/1/2019\",\n",
    "    \"12.03.2005\",\n",
    "    \"31-11-08\",\n",
    "    \"1-1-2012\",\n",
    "    \"12-12-22\"\n",
    "]\n",
    "for fecha in fechas_ejemplos:\n",
    "    if re.match(regex, fecha):\n",
    "        print(f\"{fecha} es una fecha válida.\")\n",
    "    else:\n",
    "        print(f\"{fecha} no es una fecha válida.\")\n"
   ]
  },
  {
   "attachments": {},
   "cell_type": "markdown",
   "metadata": {},
   "source": [
    "### Problema 2:\n",
    "En la carpeta encontrar´a adjuntos 21 documentos que tiene 100 fechas en la secuencia d´ıas-mes-an˜o\n",
    "pero con distinto separador y distinto formato de mes, en algunos casos aparece un numero y en\n",
    "otros el nombre del mes en ingles, por ejemplo: Enero pueder aparecer como 1 o como Jan.\n",
    "Utilice Python y expresiones regulares para encontrar el d´ıa, mes y an˜o promedio total del los 21\n",
    "archivos, los resultados deben ser un double."
   ]
  },
  {
   "cell_type": "code",
   "execution_count": 1,
   "metadata": {},
   "outputs": [
    {
     "name": "stdout",
     "output_type": "stream",
     "text": [
      "Promedio de días: 15.62\n",
      "Promedio de meses: 6.47\n",
      "Promedio de años: 2016.69\n"
     ]
    }
   ],
   "source": [
    "import re\n",
    "from datetime import datetime\n",
    "\n",
    "# Función para convertir fechas a formato estándar (dd-mm-yyyy)\n",
    "def convertir_fecha(fecha):\n",
    "    meses = {\n",
    "        'Jan': '01', 'Feb': '02', 'Mar': '03', 'Apr': '04',\n",
    "        'May': '05', 'Jun': '06', 'Jul': '07', 'Aug': '08',\n",
    "        'Sep': '09', 'Oct': '10', 'Nov': '11', 'Dec': '12'\n",
    "    }\n",
    "\n",
    "    partes = re.split(r'[-/. ]', fecha)\n",
    "    \n",
    "    # Asegurar que hay 3 partes (día, mes, año)\n",
    "    if len(partes) == 3:\n",
    "        dia, mes, anio = partes\n",
    "        if len(anio) == 2:\n",
    "            anio = '20' + anio  # Convertir años de 2 dígitos a formato completo (20xx)\n",
    "        if mes in meses:\n",
    "            mes = meses[mes]\n",
    "        return f\"{dia}-{mes}-{anio}\"\n",
    "    else:\n",
    "        return None\n",
    "\n",
    "# Listas para almacenar los valores de días, meses y años\n",
    "dias = []\n",
    "meses = []\n",
    "anios = []\n",
    "\n",
    "# Leer y procesar los 21 archivos de texto con nombres D1, D2, D3, ...\n",
    "for i in range(1, 22):\n",
    "    archivo = f\"D{i}.txt\"  # Reemplaza con los nombres reales de tus archivos\n",
    "    with open(archivo, 'r', encoding='utf-8') as f:  # Ajusta la codificación según tus archivos\n",
    "        contenido = f.read()\n",
    "        fechas = re.findall(r'\\b\\d{1,2}[-/. ](?:\\d{1,2}|[A-Za-z]+)[-/. ]\\d{2,4}\\b', contenido)\n",
    "        \n",
    "        for fecha in fechas:\n",
    "            fecha_estandar = convertir_fecha(fecha)\n",
    "            if fecha_estandar:\n",
    "                dia, mes, anio = map(int, fecha_estandar.split('-'))\n",
    "                dias.append(dia)\n",
    "                meses.append(mes)\n",
    "                anios.append(anio)\n",
    "\n",
    "# Calcular el promedio de días, meses y años\n",
    "promedio_dias = sum(dias) / len(dias)\n",
    "promedio_meses = sum(meses) / len(meses)\n",
    "promedio_anios = sum(anios) / len(anios)\n",
    "\n",
    "print(f\"Promedio de días: {promedio_dias:.2f}\")\n",
    "print(f\"Promedio de meses: {promedio_meses:.2f}\")\n",
    "print(f\"Promedio de años: {promedio_anios:.2f}\")\n"
   ]
  },
  {
   "attachments": {},
   "cell_type": "markdown",
   "metadata": {},
   "source": [
    "## Problema 3:\n",
    "Descargue el Dataset (de click aqu´ı para descargar) el cual contiene aproximadamente 800,000\n",
    "tweets de diversos temas."
   ]
  },
  {
   "cell_type": "code",
   "execution_count": 2,
   "metadata": {},
   "outputs": [],
   "source": [
    "import pandas as pd\n",
    "import re\n",
    "from collections import Counter"
   ]
  },
  {
   "cell_type": "code",
   "execution_count": 15,
   "metadata": {},
   "outputs": [
    {
     "data": {
      "text/html": [
       "<div>\n",
       "<style scoped>\n",
       "    .dataframe tbody tr th:only-of-type {\n",
       "        vertical-align: middle;\n",
       "    }\n",
       "\n",
       "    .dataframe tbody tr th {\n",
       "        vertical-align: top;\n",
       "    }\n",
       "\n",
       "    .dataframe thead th {\n",
       "        text-align: right;\n",
       "    }\n",
       "</style>\n",
       "<table border=\"1\" class=\"dataframe\">\n",
       "  <thead>\n",
       "    <tr style=\"text-align: right;\">\n",
       "      <th></th>\n",
       "      <th>0</th>\n",
       "      <th>1467810369</th>\n",
       "      <th>Mon Apr 06 22:19:45 PDT 2009</th>\n",
       "      <th>NO_QUERY</th>\n",
       "      <th>_TheSpecialOne_</th>\n",
       "      <th>@switchfoot http://twitpic.com/2y1zl - Awww, that's a bummer.  You shoulda got David Carr of Third Day to do it. ;D</th>\n",
       "    </tr>\n",
       "  </thead>\n",
       "  <tbody>\n",
       "    <tr>\n",
       "      <th>0</th>\n",
       "      <td>0</td>\n",
       "      <td>1467810672</td>\n",
       "      <td>Mon Apr 06 22:19:49 PDT 2009</td>\n",
       "      <td>NO_QUERY</td>\n",
       "      <td>scotthamilton</td>\n",
       "      <td>is upset that he can't update his Facebook by ...</td>\n",
       "    </tr>\n",
       "    <tr>\n",
       "      <th>1</th>\n",
       "      <td>0</td>\n",
       "      <td>1467810917</td>\n",
       "      <td>Mon Apr 06 22:19:53 PDT 2009</td>\n",
       "      <td>NO_QUERY</td>\n",
       "      <td>mattycus</td>\n",
       "      <td>@Kenichan I dived many times for the ball. Man...</td>\n",
       "    </tr>\n",
       "    <tr>\n",
       "      <th>2</th>\n",
       "      <td>0</td>\n",
       "      <td>1467811184</td>\n",
       "      <td>Mon Apr 06 22:19:57 PDT 2009</td>\n",
       "      <td>NO_QUERY</td>\n",
       "      <td>ElleCTF</td>\n",
       "      <td>my whole body feels itchy and like its on fire</td>\n",
       "    </tr>\n",
       "    <tr>\n",
       "      <th>3</th>\n",
       "      <td>0</td>\n",
       "      <td>1467811193</td>\n",
       "      <td>Mon Apr 06 22:19:57 PDT 2009</td>\n",
       "      <td>NO_QUERY</td>\n",
       "      <td>Karoli</td>\n",
       "      <td>@nationwideclass no, it's not behaving at all....</td>\n",
       "    </tr>\n",
       "    <tr>\n",
       "      <th>4</th>\n",
       "      <td>0</td>\n",
       "      <td>1467811372</td>\n",
       "      <td>Mon Apr 06 22:20:00 PDT 2009</td>\n",
       "      <td>NO_QUERY</td>\n",
       "      <td>joy_wolf</td>\n",
       "      <td>@Kwesidei not the whole crew</td>\n",
       "    </tr>\n",
       "  </tbody>\n",
       "</table>\n",
       "</div>"
      ],
      "text/plain": [
       "   0  1467810369  Mon Apr 06 22:19:45 PDT 2009  NO_QUERY _TheSpecialOne_  \\\n",
       "0  0  1467810672  Mon Apr 06 22:19:49 PDT 2009  NO_QUERY   scotthamilton   \n",
       "1  0  1467810917  Mon Apr 06 22:19:53 PDT 2009  NO_QUERY        mattycus   \n",
       "2  0  1467811184  Mon Apr 06 22:19:57 PDT 2009  NO_QUERY         ElleCTF   \n",
       "3  0  1467811193  Mon Apr 06 22:19:57 PDT 2009  NO_QUERY          Karoli   \n",
       "4  0  1467811372  Mon Apr 06 22:20:00 PDT 2009  NO_QUERY        joy_wolf   \n",
       "\n",
       "  @switchfoot http://twitpic.com/2y1zl - Awww, that's a bummer.  You shoulda got David Carr of Third Day to do it. ;D  \n",
       "0  is upset that he can't update his Facebook by ...                                                                   \n",
       "1  @Kenichan I dived many times for the ball. Man...                                                                   \n",
       "2    my whole body feels itchy and like its on fire                                                                    \n",
       "3  @nationwideclass no, it's not behaving at all....                                                                   \n",
       "4                      @Kwesidei not the whole crew                                                                    "
      ]
     },
     "execution_count": 15,
     "metadata": {},
     "output_type": "execute_result"
    }
   ],
   "source": [
    "df = pd.read_csv('tw_source.csv', encoding='ISO-8859-1')\n",
    "df.head()"
   ]
  },
  {
   "cell_type": "code",
   "execution_count": 25,
   "metadata": {},
   "outputs": [
    {
     "name": "stdout",
     "output_type": "stream",
     "text": [
      "Los 3 usuarios más populares:\n",
      "lost_dog    549\n",
      "webwoke     345\n",
      "tweetpet    310\n",
      "Name: _TheSpecialOne_, dtype: int64\n"
     ]
    }
   ],
   "source": [
    "# Obtener la cuarta columna (usuarios)\n",
    "usuarios = df.iloc[:, 4]\n",
    "\n",
    "# Contar la frecuencia de cada usuario\n",
    "conteo_usuarios = usuarios.value_counts()\n",
    "\n",
    "# Obtener los 3 usuarios más populares\n",
    "usuarios_populares = conteo_usuarios.head(3)\n",
    "\n",
    "# Mostrar los 3 usuarios más populares y sus frecuencias\n",
    "print(\"Los 3 usuarios más populares:\")\n",
    "print(usuarios_populares)"
   ]
  },
  {
   "cell_type": "code",
   "execution_count": null,
   "metadata": {},
   "outputs": [],
   "source": [
    "import pandas as pd\n",
    "\n",
    "# Cargar el archivo CSV\n",
    "df = pd.read_csv('tw_source.csv', encoding='ISO-8859-1')  # Reemplaza 'tw_source.csv' con la ruta real de tu archivo\n",
    "\n",
    "# Obtener la primera columna (ID), la segunda columna (timestamp), la cuarta columna (usuarios)\n",
    "# y la quinta columna (contenido de los tweets)\n",
    "ids = df.iloc[:, 1]\n",
    "timestamps = df.iloc[:, 2]\n",
    "usuarios = df.iloc[:, 4]\n",
    "tweets = df.iloc[:, 5]\n",
    "\n",
    "# Contar la frecuencia de cada usuario\n",
    "conteo_usuarios = usuarios.value_counts()\n",
    "\n",
    "# Obtener los 3 usuarios más populares\n",
    "usuarios_populares = conteo_usuarios.head(3).index.tolist()\n",
    "\n",
    "# Filtrar el DataFrame para obtener las filas de los usuarios más populares\n",
    "df_usuarios_populares = df[df.iloc[:, 4].isin(usuarios_populares)]\n",
    "\n",
    "# Obtener los IDs, timestamps y tweets de los usuarios seleccionados\n",
    "ids_seleccionados = df_usuarios_populares.iloc[:, 1].tolist()\n",
    "timestamps_seleccionados = df_usuarios_populares.iloc[:, 2].tolist()\n",
    "tweets_seleccionados = df_usuarios_populares.iloc[:, 5].tolist()\n",
    "\n",
    "# Calcular la longitud de cada tweet y crear un corpus con IDs, timestamps, longitud y tweets\n",
    "corpus = \"\"\n",
    "for id, timestamp, tweet in zip(ids_seleccionados, timestamps_seleccionados, tweets_seleccionados):\n",
    "    longitud = len(tweet)\n",
    "    corpus += f\"ID: {id}\\nTimestamp: {timestamp}\\nLength: {longitud}\\nTweet: {tweet}\\n\\n\"\n",
    "\n",
    "# Mostrar el corpus\n",
    "print(corpus)\n",
    "\n",
    "\n"
   ]
  },
  {
   "attachments": {},
   "cell_type": "markdown",
   "metadata": {},
   "source": [
    "Posterior a tener sus 3 corpus creados, responda: ¿Raz´on por la que citan a ese usuario? para\n",
    "esto es necesario que extraiga el contexto de cada tweet y verifique cuales son las palabras que m\n",
    "?as rodean al nombre de usuario. Para extraer un contexto valido y debido a la naturaleza del tipo\n",
    "de datos que est´an disponibles en nuestro dataset le recomendamos seguir los siguientes pasos:\n",
    "1. Remover stopwords.\n",
    "2. Realizar stemming y lemmatizaci´on.\n",
    "3. Mostrar un wordcloud con el top 10 para cada usuario"
   ]
  },
  {
   "cell_type": "code",
   "execution_count": 17,
   "metadata": {},
   "outputs": [],
   "source": [
    "import pandas as pd\n",
    "import nltk\n"
   ]
  },
  {
   "cell_type": "code",
   "execution_count": 19,
   "metadata": {},
   "outputs": [],
   "source": [
    "from nltk.corpus import stopwords\n",
    "from nltk.stem import PorterStemmer\n",
    "from nltk.stem import WordNetLemmatizer\n",
    "from wordcloud import WordCloud\n",
    "import matplotlib.pyplot as plt"
   ]
  },
  {
   "cell_type": "code",
   "execution_count": 23,
   "metadata": {},
   "outputs": [
    {
     "name": "stderr",
     "output_type": "stream",
     "text": [
      "[nltk_data] Downloading package punkt to\n",
      "[nltk_data]     C:\\Users\\crs\\AppData\\Roaming\\nltk_data...\n",
      "[nltk_data]   Unzipping tokenizers\\punkt.zip.\n",
      "[nltk_data] Downloading package stopwords to\n",
      "[nltk_data]     C:\\Users\\crs\\AppData\\Roaming\\nltk_data...\n",
      "[nltk_data]   Package stopwords is already up-to-date!\n",
      "[nltk_data] Downloading package wordnet to\n",
      "[nltk_data]     C:\\Users\\crs\\AppData\\Roaming\\nltk_data...\n",
      "[nltk_data]   Package wordnet is already up-to-date!\n"
     ]
    },
    {
     "data": {
      "text/plain": [
       "True"
      ]
     },
     "execution_count": 23,
     "metadata": {},
     "output_type": "execute_result"
    }
   ],
   "source": [
    "import nltk\n",
    "nltk.download('punkt')\n",
    "nltk.download('stopwords')\n",
    "nltk.download('wordnet')"
   ]
  },
  {
   "cell_type": "code",
   "execution_count": 24,
   "metadata": {},
   "outputs": [
    {
     "name": "stderr",
     "output_type": "stream",
     "text": [
      "[nltk_data] Downloading package stopwords to\n",
      "[nltk_data]     C:\\Users\\crs\\AppData\\Roaming\\nltk_data...\n",
      "[nltk_data]   Package stopwords is already up-to-date!\n",
      "[nltk_data] Downloading package wordnet to\n",
      "[nltk_data]     C:\\Users\\crs\\AppData\\Roaming\\nltk_data...\n",
      "[nltk_data]   Package wordnet is already up-to-date!\n"
     ]
    }
   ],
   "source": [
    "# Cargar el archivo CSV\n",
    "df = pd.read_csv('tw_source.csv', encoding='ISO-8859-1')  # Reemplaza 'tw_source.csv' con la ruta real de tu archivo\n",
    "\n",
    "# Obtener la cuarta columna (usuarios), la quinta columna (contenido de los tweets)\n",
    "usuarios = df.iloc[:, 4]\n",
    "tweets = df.iloc[:, 5]\n",
    "\n",
    "# Contar la frecuencia de cada usuario\n",
    "conteo_usuarios = usuarios.value_counts()\n",
    "\n",
    "# Obtener los 3 usuarios más populares\n",
    "usuarios_populares = conteo_usuarios.head(3).index.tolist()\n",
    "\n",
    "# Filtrar el DataFrame para obtener las filas de los usuarios más populares\n",
    "df_usuarios_populares = df[df.iloc[:, 4].isin(usuarios_populares)]\n",
    "\n",
    "# Inicializar NLTK y descargar los datos necesarios\n",
    "nltk.download('stopwords')\n",
    "nltk.download('wordnet')\n",
    "\n",
    "# Inicializar el stemmer y el lematizador\n",
    "stemmer = PorterStemmer()\n",
    "lemmatizer = WordNetLemmatizer()\n",
    "\n",
    "# Función para procesar un tweet (eliminar stopwords, stemming y lematización)\n",
    "def procesar_tweet(tweet):\n",
    "    stop_words = set(stopwords.words('english'))\n",
    "    words = nltk.word_tokenize(tweet)\n",
    "    filtered_words = [word.lower() for word in words if word.isalpha() and word.lower() not in stop_words]\n",
    "    stemmed_words = [stemmer.stem(word) for word in filtered_words]\n",
    "    lemmatized_words = [lemmatizer.lemmatize(word) for word in stemmed_words]\n",
    "    return \" \".join(lemmatized_words)\n",
    "\n",
    "# Procesar los tweets de los usuarios seleccionados\n",
    "tweets_procesados = [procesar_tweet(tweet) for tweet in df_usuarios_populares.iloc[:, 5]]\n",
    "\n",
    "# Crear un corpus con los tweets procesados\n",
    "corpus = \"\\n\".join(tweets_procesados)"
   ]
  },
  {
   "cell_type": "code",
   "execution_count": 25,
   "metadata": {},
   "outputs": [
    {
     "data": {
      "image/png": "[encoded data removed]",
      "text/plain": [
       "<Figure size 1000x500 with 1 Axes>"
      ]
     },
     "metadata": {},
     "output_type": "display_data"
    }
   ],
   "source": [
    "# Mostrar un wordcloud con las palabras más relevantes\n",
    "wordcloud = WordCloud(width=800, height=400, max_words=10).generate(corpus)\n",
    "\n",
    "plt.figure(figsize=(10, 5))\n",
    "plt.imshow(wordcloud, interpolation='bilinear')\n",
    "plt.axis('off')\n",
    "plt.show()"
   ]
  }
 ],
 "metadata": {
  "kernelspec": {
   "display_name": "Python 3",
   "language": "python",
   "name": "python3"
  },
  "language_info": {
   "codemirror_mode": {
    "name": "ipython",
    "version": 3
   },
   "file_extension": ".py",
   "mimetype": "text/x-python",
   "name": "python",
   "nbconvert_exporter": "python",
   "pygments_lexer": "ipython3",
   "version": "3.10.11"
  },
  "orig_nbformat": 4,
  "vscode": {
   "interpreter": {
    "hash": "dd3fc6da61f434c85f3c10c7d54309e9118ff5e9552af843da74c7e5aa776c98"
   }
  }
 },
 "nbformat": 4,
 "nbformat_minor": 2
}
