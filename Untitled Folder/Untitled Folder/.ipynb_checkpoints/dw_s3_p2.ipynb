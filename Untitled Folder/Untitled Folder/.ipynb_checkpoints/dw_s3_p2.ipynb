{
 "cells": [
  {
   "cell_type": "code",
   "execution_count": 3,
   "metadata": {},
   "outputs": [],
   "source": [
    "import pandas  as pd\n",
    "import numpy as np\n",
    "import boto3\n",
    "import psycopg2\n",
    "import configparser"
   ]
  },
  {
   "cell_type": "code",
   "execution_count": 4,
   "metadata": {},
   "outputs": [
    {
     "data": {
      "text/plain": [
       "['escec.cfg']"
      ]
     },
     "execution_count": 4,
     "metadata": {},
     "output_type": "execute_result"
    }
   ],
   "source": [
    "config = configparser.ConfigParser()\n",
    "config.read('escec.cfg')"
   ]
  },
  {
   "cell_type": "code",
   "execution_count": 5,
   "metadata": {},
   "outputs": [
    {
     "name": "stdout",
     "output_type": "stream",
     "text": [
      "banco.chsado2c29rj.us-east-1.rds.amazonaws.com\n"
     ]
    }
   ],
   "source": [
    "RDS_HOST = 'banco.chsado2c29rj.us-east-1.rds.amazonaws.com'\n",
    "print(RDS_HOST)\n"
   ]
  },
  {
   "cell_type": "code",
   "execution_count": 6,
   "metadata": {},
   "outputs": [],
   "source": [
    "postgres_driver = f\"\"\"postgresql://{config.get('RDS', 'DB_USER')}:{config.get('RDS', 'DB_PASSWORD')}@{RDS_HOST}:{config.get('RDS', 'DB_PORT')}/{config.get('RDS', 'DB_NAME')}\"\"\""
   ]
  },
  {
   "attachments": {},
   "cell_type": "markdown",
   "metadata": {},
   "source": [
    "### Lectura de archivo desde s3"
   ]
  },
  {
   "cell_type": "code",
   "execution_count": 7,
   "metadata": {},
   "outputs": [],
   "source": [
    "s3 = boto3.resource(\n",
    "    service_name = 's3',\n",
    "    region_name = 'us-east-1',\n",
    "    aws_access_key_id = config.get('IAM', 'ACCESS_KEY'),\n",
    "    aws_secret_access_key = config.get('IAM', 'SECRET_ACCESS_KEY')\n",
    ")"
   ]
  },
  {
   "cell_type": "code",
   "execution_count": 20,
   "metadata": {},
   "outputs": [
    {
     "name": "stdout",
     "output_type": "stream",
     "text": [
      "bucket-p2-23006412\n",
      "bucket-v-23006412\n"
     ]
    }
   ],
   "source": [
    "for bucket in s3.buckets.all():\n",
    "    S3_BUCKET_NAME = bucket.name\n",
    "    print(bucket.name)"
   ]
  },
  {
   "cell_type": "code",
   "execution_count": 21,
   "metadata": {},
   "outputs": [],
   "source": [
    "S3_BUCKET_NAME = 'bucket-p2-23006412'"
   ]
  },
  {
   "cell_type": "code",
   "execution_count": 22,
   "metadata": {},
   "outputs": [
    {
     "data": {
      "text/plain": [
       "['conversion_euro_dolar.xlsx']"
      ]
     },
     "execution_count": 22,
     "metadata": {},
     "output_type": "execute_result"
    }
   ],
   "source": [
    "#extraemos todo lo que está en el bucket\n",
    "remoteFileList = []\n",
    "for objt in s3.Bucket(S3_BUCKET_NAME).objects.all():\n",
    "    remoteFileList.append(objt.key)\n",
    "\n",
    "remoteFileList"
   ]
  },
  {
   "attachments": {},
   "cell_type": "markdown",
   "metadata": {},
   "source": [
    "##### leemos data de S3"
   ]
  },
  {
   "cell_type": "code",
   "execution_count": 63,
   "metadata": {},
   "outputs": [
    {
     "data": {
      "text/html": [
       "<div>\n",
       "<style scoped>\n",
       "    .dataframe tbody tr th:only-of-type {\n",
       "        vertical-align: middle;\n",
       "    }\n",
       "\n",
       "    .dataframe tbody tr th {\n",
       "        vertical-align: top;\n",
       "    }\n",
       "\n",
       "    .dataframe thead th {\n",
       "        text-align: right;\n",
       "    }\n",
       "</style>\n",
       "<table border=\"1\" class=\"dataframe\">\n",
       "  <thead>\n",
       "    <tr style=\"text-align: right;\">\n",
       "      <th></th>\n",
       "      <th>Mondeda_A</th>\n",
       "      <th>Mondeda_B</th>\n",
       "      <th>Cambio</th>\n",
       "    </tr>\n",
       "  </thead>\n",
       "  <tbody>\n",
       "    <tr>\n",
       "      <th>0</th>\n",
       "      <td>Euros</td>\n",
       "      <td>Dolares</td>\n",
       "      <td>1.08</td>\n",
       "    </tr>\n",
       "  </tbody>\n",
       "</table>\n",
       "</div>"
      ],
      "text/plain": [
       "  Mondeda_A Mondeda_B  Cambio\n",
       "0     Euros   Dolares    1.08"
      ]
     },
     "execution_count": 63,
     "metadata": {},
     "output_type": "execute_result"
    }
   ],
   "source": [
    "import io\n",
    "\n",
    "for remoteFile in remoteFileList:\n",
    "    try:\n",
    "        file = s3.Bucket(S3_BUCKET_NAME).Object(remoteFile).get()\n",
    "        data = file['Body'].read()\n",
    "        df_valor_divisas = pd.read_excel(io.BytesIO(data), engine='openpyxl')\n",
    "    except Exception as ex:\n",
    "        print(\"No es un archivo.\")\n",
    "        print(ex)\n",
    "\n",
    "df_valor_divisas.head()"
   ]
  },
  {
   "attachments": {},
   "cell_type": "markdown",
   "metadata": {},
   "source": [
    "### Usamos datos de s3 dentro las tablas de transacción"
   ]
  },
  {
   "cell_type": "code",
   "execution_count": 14,
   "metadata": {},
   "outputs": [
    {
     "data": {
      "text/html": [
       "<div>\n",
       "<style scoped>\n",
       "    .dataframe tbody tr th:only-of-type {\n",
       "        vertical-align: middle;\n",
       "    }\n",
       "\n",
       "    .dataframe tbody tr th {\n",
       "        vertical-align: top;\n",
       "    }\n",
       "\n",
       "    .dataframe thead th {\n",
       "        text-align: right;\n",
       "    }\n",
       "</style>\n",
       "<table border=\"1\" class=\"dataframe\">\n",
       "  <thead>\n",
       "    <tr style=\"text-align: right;\">\n",
       "      <th></th>\n",
       "      <th>NOMEM</th>\n",
       "      <th>SALAR</th>\n",
       "    </tr>\n",
       "  </thead>\n",
       "  <tbody>\n",
       "    <tr>\n",
       "      <th>0</th>\n",
       "      <td>CESAR</td>\n",
       "      <td>1800</td>\n",
       "    </tr>\n",
       "    <tr>\n",
       "      <th>1</th>\n",
       "      <td>MARIO</td>\n",
       "      <td>1900</td>\n",
       "    </tr>\n",
       "    <tr>\n",
       "      <th>2</th>\n",
       "      <td>LUCIANO</td>\n",
       "      <td>1500</td>\n",
       "    </tr>\n",
       "    <tr>\n",
       "      <th>3</th>\n",
       "      <td>JULIO</td>\n",
       "      <td>2600</td>\n",
       "    </tr>\n",
       "    <tr>\n",
       "      <th>4</th>\n",
       "      <td>AUREO</td>\n",
       "      <td>1800</td>\n",
       "    </tr>\n",
       "  </tbody>\n",
       "</table>\n",
       "</div>"
      ],
      "text/plain": [
       "     NOMEM  SALAR\n",
       "0    CESAR   1800\n",
       "1    MARIO   1900\n",
       "2  LUCIANO   1500\n",
       "3    JULIO   2600\n",
       "4    AUREO   1800"
      ]
     },
     "execution_count": 14,
     "metadata": {},
     "output_type": "execute_result"
    }
   ],
   "source": [
    "sql_query = 'SELECT \"NOMEM\", \"SALAR\" FROM \"EMPLEADOS\";'\n",
    "df_empleados = pd.read_sql(sql_query, postgres_driver)\n",
    "df_empleados.head()"
   ]
  },
  {
   "cell_type": "code",
   "execution_count": 24,
   "metadata": {},
   "outputs": [
    {
     "data": {
      "text/html": [
       "<div>\n",
       "<style scoped>\n",
       "    .dataframe tbody tr th:only-of-type {\n",
       "        vertical-align: middle;\n",
       "    }\n",
       "\n",
       "    .dataframe tbody tr th {\n",
       "        vertical-align: top;\n",
       "    }\n",
       "\n",
       "    .dataframe thead th {\n",
       "        text-align: right;\n",
       "    }\n",
       "</style>\n",
       "<table border=\"1\" class=\"dataframe\">\n",
       "  <thead>\n",
       "    <tr style=\"text-align: right;\">\n",
       "      <th></th>\n",
       "      <th>NOMEM</th>\n",
       "      <th>SALAR</th>\n",
       "    </tr>\n",
       "  </thead>\n",
       "  <tbody>\n",
       "    <tr>\n",
       "      <th>0</th>\n",
       "      <td>CESAR</td>\n",
       "      <td>1800</td>\n",
       "    </tr>\n",
       "    <tr>\n",
       "      <th>1</th>\n",
       "      <td>MARIO</td>\n",
       "      <td>1900</td>\n",
       "    </tr>\n",
       "    <tr>\n",
       "      <th>2</th>\n",
       "      <td>LUCIANO</td>\n",
       "      <td>1500</td>\n",
       "    </tr>\n",
       "    <tr>\n",
       "      <th>3</th>\n",
       "      <td>JULIO</td>\n",
       "      <td>2600</td>\n",
       "    </tr>\n",
       "    <tr>\n",
       "      <th>4</th>\n",
       "      <td>AUREO</td>\n",
       "      <td>1800</td>\n",
       "    </tr>\n",
       "  </tbody>\n",
       "</table>\n",
       "</div>"
      ],
      "text/plain": [
       "     NOMEM  SALAR\n",
       "0    CESAR   1800\n",
       "1    MARIO   1900\n",
       "2  LUCIANO   1500\n",
       "3    JULIO   2600\n",
       "4    AUREO   1800"
      ]
     },
     "execution_count": 24,
     "metadata": {},
     "output_type": "execute_result"
    }
   ],
   "source": [
    "sql_query = '''SELECT \"NOMEM\", \"SALAR\" FROM \"EMPLEADOS\";'''\n",
    "df_montos = pd.read_sql(sql_query, postgres_driver)\n",
    "df_montos.head()"
   ]
  },
  {
   "cell_type": "code",
   "execution_count": 25,
   "metadata": {},
   "outputs": [
    {
     "data": {
      "text/html": [
       "<div>\n",
       "<style scoped>\n",
       "    .dataframe tbody tr th:only-of-type {\n",
       "        vertical-align: middle;\n",
       "    }\n",
       "\n",
       "    .dataframe tbody tr th {\n",
       "        vertical-align: top;\n",
       "    }\n",
       "\n",
       "    .dataframe thead th {\n",
       "        text-align: right;\n",
       "    }\n",
       "</style>\n",
       "<table border=\"1\" class=\"dataframe\">\n",
       "  <thead>\n",
       "    <tr style=\"text-align: right;\">\n",
       "      <th></th>\n",
       "      <th>NUMEM</th>\n",
       "      <th>EXTEL</th>\n",
       "      <th>FECNA</th>\n",
       "      <th>FECIN</th>\n",
       "      <th>SALAR</th>\n",
       "      <th>COMIS</th>\n",
       "      <th>NUMHI</th>\n",
       "      <th>NOMEM</th>\n",
       "      <th>NUMDE</th>\n",
       "    </tr>\n",
       "  </thead>\n",
       "  <tbody>\n",
       "    <tr>\n",
       "      <th>0</th>\n",
       "      <td>110</td>\n",
       "      <td>350</td>\n",
       "      <td>19701011</td>\n",
       "      <td>19850215</td>\n",
       "      <td>1800</td>\n",
       "      <td>NULL</td>\n",
       "      <td>3</td>\n",
       "      <td>CESAR</td>\n",
       "      <td>121</td>\n",
       "    </tr>\n",
       "    <tr>\n",
       "      <th>1</th>\n",
       "      <td>120</td>\n",
       "      <td>840</td>\n",
       "      <td>19680906</td>\n",
       "      <td>19880110</td>\n",
       "      <td>1900</td>\n",
       "      <td>110</td>\n",
       "      <td>1</td>\n",
       "      <td>MARIO</td>\n",
       "      <td>112</td>\n",
       "    </tr>\n",
       "    <tr>\n",
       "      <th>2</th>\n",
       "      <td>130</td>\n",
       "      <td>810</td>\n",
       "      <td>19650909</td>\n",
       "      <td>19810102</td>\n",
       "      <td>1500</td>\n",
       "      <td>110</td>\n",
       "      <td>2</td>\n",
       "      <td>LUCIANO</td>\n",
       "      <td>112</td>\n",
       "    </tr>\n",
       "    <tr>\n",
       "      <th>3</th>\n",
       "      <td>150</td>\n",
       "      <td>340</td>\n",
       "      <td>19721008</td>\n",
       "      <td>19970115</td>\n",
       "      <td>2600</td>\n",
       "      <td>NULL</td>\n",
       "      <td>0</td>\n",
       "      <td>JULIO</td>\n",
       "      <td>121</td>\n",
       "    </tr>\n",
       "    <tr>\n",
       "      <th>4</th>\n",
       "      <td>160</td>\n",
       "      <td>740</td>\n",
       "      <td>19800907</td>\n",
       "      <td>20051111</td>\n",
       "      <td>1800</td>\n",
       "      <td>110</td>\n",
       "      <td>2</td>\n",
       "      <td>AUREO</td>\n",
       "      <td>111</td>\n",
       "    </tr>\n",
       "  </tbody>\n",
       "</table>\n",
       "</div>"
      ],
      "text/plain": [
       "   NUMEM  EXTEL     FECNA     FECIN  SALAR COMIS  NUMHI    NOMEM  NUMDE\n",
       "0    110    350  19701011  19850215   1800  NULL      3    CESAR    121\n",
       "1    120    840  19680906  19880110   1900   110      1    MARIO    112\n",
       "2    130    810  19650909  19810102   1500   110      2  LUCIANO    112\n",
       "3    150    340  19721008  19970115   2600  NULL      0    JULIO    121\n",
       "4    160    740  19800907  20051111   1800   110      2    AUREO    111"
      ]
     },
     "execution_count": 25,
     "metadata": {},
     "output_type": "execute_result"
    }
   ],
   "source": [
    "sql_query = '''SELECT * FROM \"EMPLEADOS\";'''\n",
    "df_divisas = pd.read_sql(sql_query, postgres_driver)\n",
    "df_divisas.head()"
   ]
  },
  {
   "cell_type": "code",
   "execution_count": 76,
   "metadata": {},
   "outputs": [
    {
     "name": "stdout",
     "output_type": "stream",
     "text": [
      "0     1944.0\n",
      "1     2052.0\n",
      "2     1620.0\n",
      "3     2808.0\n",
      "4     1944.0\n",
      "5     3024.0\n",
      "6     1890.0\n",
      "7     2062.8\n",
      "8     1890.0\n",
      "9     2062.8\n",
      "10    1836.0\n",
      "Name: SALAR, dtype: float64\n"
     ]
    }
   ],
   "source": [
    "import io\n",
    "import pandas as pd\n",
    "import boto3\n",
    "\n",
    "for remoteFile in remoteFileList:\n",
    "        try:\n",
    "            file = s3.Bucket(S3_BUCKET_NAME).Object(remoteFile).get()\n",
    "            data = file['Body'].read()\n",
    "            df_valor_divisas = pd.read_excel(io.BytesIO(data), engine='openpyxl')\n",
    "        except Exception as ex:\n",
    "            print(\"No es un archivo.\")\n",
    "            print(ex)\n",
    "\n",
    "# Query employee data from PostgreSQL and load into a dataframe\n",
    "sql_query = 'SELECT \"NOMEM\", \"SALAR\" FROM \"EMPLEADOS\";'\n",
    "df_empleados = pd.read_sql(sql_query, postgres_driver)\n",
    "\n",
    "# Merge dataframes based on \"Cambio\" column\n",
    "df_merged = df_valor_divisas['Cambio'].values[0] * df_empleados[\"SALAR\"]\n",
    "\n",
    "# Display resulting dataframe\n",
    "print(df_merged)\n"
   ]
  },
  {
   "cell_type": "code",
   "execution_count": 77,
   "metadata": {},
   "outputs": [
    {
     "data": {
      "text/plain": [
       "11"
      ]
     },
     "execution_count": 77,
     "metadata": {},
     "output_type": "execute_result"
    }
   ],
   "source": [
    "len(df_merged)"
   ]
  },
  {
   "cell_type": "code",
   "execution_count": 79,
   "metadata": {},
   "outputs": [
    {
     "data": {
      "text/plain": [
       "(11, 9)"
      ]
     },
     "execution_count": 79,
     "metadata": {},
     "output_type": "execute_result"
    }
   ],
   "source": [
    "df_divisas.shape"
   ]
  },
  {
   "cell_type": "code",
   "execution_count": 80,
   "metadata": {},
   "outputs": [
    {
     "data": {
      "text/html": [
       "<div>\n",
       "<style scoped>\n",
       "    .dataframe tbody tr th:only-of-type {\n",
       "        vertical-align: middle;\n",
       "    }\n",
       "\n",
       "    .dataframe tbody tr th {\n",
       "        vertical-align: top;\n",
       "    }\n",
       "\n",
       "    .dataframe thead th {\n",
       "        text-align: right;\n",
       "    }\n",
       "</style>\n",
       "<table border=\"1\" class=\"dataframe\">\n",
       "  <thead>\n",
       "    <tr style=\"text-align: right;\">\n",
       "      <th></th>\n",
       "      <th>NUMEM</th>\n",
       "      <th>EXTEL</th>\n",
       "      <th>FECNA</th>\n",
       "      <th>FECIN</th>\n",
       "      <th>SALAR</th>\n",
       "      <th>COMIS</th>\n",
       "      <th>NUMHI</th>\n",
       "      <th>NOMEM</th>\n",
       "      <th>NUMDE</th>\n",
       "      <th>SALAR_DOLAR</th>\n",
       "    </tr>\n",
       "  </thead>\n",
       "  <tbody>\n",
       "    <tr>\n",
       "      <th>0</th>\n",
       "      <td>110</td>\n",
       "      <td>350</td>\n",
       "      <td>19701011</td>\n",
       "      <td>19850215</td>\n",
       "      <td>1800</td>\n",
       "      <td>NULL</td>\n",
       "      <td>3</td>\n",
       "      <td>CESAR</td>\n",
       "      <td>121</td>\n",
       "      <td>1944.0</td>\n",
       "    </tr>\n",
       "    <tr>\n",
       "      <th>1</th>\n",
       "      <td>120</td>\n",
       "      <td>840</td>\n",
       "      <td>19680906</td>\n",
       "      <td>19880110</td>\n",
       "      <td>1900</td>\n",
       "      <td>110</td>\n",
       "      <td>1</td>\n",
       "      <td>MARIO</td>\n",
       "      <td>112</td>\n",
       "      <td>2052.0</td>\n",
       "    </tr>\n",
       "    <tr>\n",
       "      <th>2</th>\n",
       "      <td>130</td>\n",
       "      <td>810</td>\n",
       "      <td>19650909</td>\n",
       "      <td>19810102</td>\n",
       "      <td>1500</td>\n",
       "      <td>110</td>\n",
       "      <td>2</td>\n",
       "      <td>LUCIANO</td>\n",
       "      <td>112</td>\n",
       "      <td>1620.0</td>\n",
       "    </tr>\n",
       "    <tr>\n",
       "      <th>3</th>\n",
       "      <td>150</td>\n",
       "      <td>340</td>\n",
       "      <td>19721008</td>\n",
       "      <td>19970115</td>\n",
       "      <td>2600</td>\n",
       "      <td>NULL</td>\n",
       "      <td>0</td>\n",
       "      <td>JULIO</td>\n",
       "      <td>121</td>\n",
       "      <td>2808.0</td>\n",
       "    </tr>\n",
       "    <tr>\n",
       "      <th>4</th>\n",
       "      <td>160</td>\n",
       "      <td>740</td>\n",
       "      <td>19800907</td>\n",
       "      <td>20051111</td>\n",
       "      <td>1800</td>\n",
       "      <td>110</td>\n",
       "      <td>2</td>\n",
       "      <td>AUREO</td>\n",
       "      <td>111</td>\n",
       "      <td>1944.0</td>\n",
       "    </tr>\n",
       "  </tbody>\n",
       "</table>\n",
       "</div>"
      ],
      "text/plain": [
       "   NUMEM  EXTEL     FECNA     FECIN  SALAR COMIS  NUMHI    NOMEM  NUMDE  \\\n",
       "0    110    350  19701011  19850215   1800  NULL      3    CESAR    121   \n",
       "1    120    840  19680906  19880110   1900   110      1    MARIO    112   \n",
       "2    130    810  19650909  19810102   1500   110      2  LUCIANO    112   \n",
       "3    150    340  19721008  19970115   2600  NULL      0    JULIO    121   \n",
       "4    160    740  19800907  20051111   1800   110      2    AUREO    111   \n",
       "\n",
       "   SALAR_DOLAR  \n",
       "0       1944.0  \n",
       "1       2052.0  \n",
       "2       1620.0  \n",
       "3       2808.0  \n",
       "4       1944.0  "
      ]
     },
     "execution_count": 80,
     "metadata": {},
     "output_type": "execute_result"
    }
   ],
   "source": [
    "df_divisas['SALAR_DOLAR'] = df_merged\n",
    "df_divisas.head()\n"
   ]
  }
 ],
 "metadata": {
  "kernelspec": {
   "display_name": "claseviernes030223",
   "language": "python",
   "name": "python3"
  },
  "language_info": {
   "codemirror_mode": {
    "name": "ipython",
    "version": 3
   },
   "file_extension": ".py",
   "mimetype": "text/x-python",
   "name": "python",
   "nbconvert_exporter": "python",
   "pygments_lexer": "ipython3",
   "version": "3.8.16"
  },
  "orig_nbformat": 4,
  "vscode": {
   "interpreter": {
    "hash": "ce00b8029bfa6265f59e7e9263c64950406e93502b599814d296d7f51d8c05dd"
   }
  }
 },
 "nbformat": 4,
 "nbformat_minor": 2
}
