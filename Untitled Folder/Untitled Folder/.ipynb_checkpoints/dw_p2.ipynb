{
 "cells": [
  {
   "cell_type": "markdown",
   "metadata": {},
   "source": [
    "## Proyecto 2 Aws con Python y MySql\n",
    "### Edward Tohom\n",
    "### Carné 26430042\n"
   ]
  },
  {
   "attachments": {},
   "cell_type": "markdown",
   "metadata": {},
   "source": [
    "### Lectura de datos desde Python a BD"
   ]
  },
  {
   "cell_type": "code",
   "execution_count": 8,
   "metadata": {},
   "outputs": [],
   "source": [
    "import pandas as pd\n",
    "import numpy as no\n",
    "import configparser"
   ]
  },
  {
   "cell_type": "code",
   "execution_count": 9,
   "metadata": {},
   "outputs": [
    {
     "data": {
      "text/plain": [
       "['escec.cfg']"
      ]
     },
     "execution_count": 9,
     "metadata": {},
     "output_type": "execute_result"
    }
   ],
   "source": [
    "config = configparser.ConfigParser()\n",
    "config.read('escec.cfg')"
   ]
  },
  {
   "cell_type": "code",
   "execution_count": 10,
   "metadata": {},
   "outputs": [],
   "source": [
    "RDS_HOST = 'banco.chsado2c29rj.us-east-1.rds.amazonaws.com'"
   ]
  },
  {
   "cell_type": "code",
   "execution_count": 11,
   "metadata": {},
   "outputs": [],
   "source": [
    "postgres_driver = f\"\"\"postgresql://{config.get('RDS', 'DB_USER')}:{config.get('RDS', 'DB_PASSWORD')}@{RDS_HOST}:{config.get('RDS', 'DB_PORT')}/{config.get('RDS', 'DB_NAME')}\"\"\""
   ]
  },
  {
   "attachments": {},
   "cell_type": "markdown",
   "metadata": {},
   "source": [
    "### Creamos dimensión de Centros"
   ]
  },
  {
   "cell_type": "code",
   "execution_count": 13,
   "metadata": {},
   "outputs": [
    {
     "data": {
      "text/html": [
       "<div>\n",
       "<style scoped>\n",
       "    .dataframe tbody tr th:only-of-type {\n",
       "        vertical-align: middle;\n",
       "    }\n",
       "\n",
       "    .dataframe tbody tr th {\n",
       "        vertical-align: top;\n",
       "    }\n",
       "\n",
       "    .dataframe thead th {\n",
       "        text-align: right;\n",
       "    }\n",
       "</style>\n",
       "<table border=\"1\" class=\"dataframe\">\n",
       "  <thead>\n",
       "    <tr style=\"text-align: right;\">\n",
       "      <th></th>\n",
       "      <th>NUMCE</th>\n",
       "      <th>NOMCE</th>\n",
       "      <th>DIRCE</th>\n",
       "    </tr>\n",
       "  </thead>\n",
       "  <tbody>\n",
       "    <tr>\n",
       "      <th>0</th>\n",
       "      <td>10.0</td>\n",
       "      <td>SEDE CENTRAL</td>\n",
       "      <td>C/ ATOCHA, 820, MADRID</td>\n",
       "    </tr>\n",
       "    <tr>\n",
       "      <th>1</th>\n",
       "      <td>20.0</td>\n",
       "      <td>RELACIÓN CON CLIENTES</td>\n",
       "      <td>C/ ATOCHA, 405, MADRID</td>\n",
       "    </tr>\n",
       "  </tbody>\n",
       "</table>\n",
       "</div>"
      ],
      "text/plain": [
       "   NUMCE                  NOMCE                   DIRCE\n",
       "0   10.0           SEDE CENTRAL  C/ ATOCHA, 820, MADRID\n",
       "1   20.0  RELACIÓN CON CLIENTES  C/ ATOCHA, 405, MADRID"
      ]
     },
     "execution_count": 13,
     "metadata": {},
     "output_type": "execute_result"
    }
   ],
   "source": [
    "sql_query = 'SELECT * FROM \"CENTROS\";'\n",
    "df_centros = pd.read_sql(sql_query, postgres_driver)\n",
    "df_centros.head()"
   ]
  },
  {
   "attachments": {},
   "cell_type": "markdown",
   "metadata": {},
   "source": [
    "### Creamos dimensión de Empleados"
   ]
  },
  {
   "cell_type": "code",
   "execution_count": 14,
   "metadata": {},
   "outputs": [
    {
     "data": {
      "text/html": [
       "<div>\n",
       "<style scoped>\n",
       "    .dataframe tbody tr th:only-of-type {\n",
       "        vertical-align: middle;\n",
       "    }\n",
       "\n",
       "    .dataframe tbody tr th {\n",
       "        vertical-align: top;\n",
       "    }\n",
       "\n",
       "    .dataframe thead th {\n",
       "        text-align: right;\n",
       "    }\n",
       "</style>\n",
       "<table border=\"1\" class=\"dataframe\">\n",
       "  <thead>\n",
       "    <tr style=\"text-align: right;\">\n",
       "      <th></th>\n",
       "      <th>NUMEM</th>\n",
       "      <th>EXTEL</th>\n",
       "      <th>FECNA</th>\n",
       "      <th>FECIN</th>\n",
       "      <th>SALAR</th>\n",
       "      <th>COMIS</th>\n",
       "      <th>NUMHI</th>\n",
       "      <th>NOMEM</th>\n",
       "      <th>NUMDE</th>\n",
       "    </tr>\n",
       "  </thead>\n",
       "  <tbody>\n",
       "    <tr>\n",
       "      <th>0</th>\n",
       "      <td>110</td>\n",
       "      <td>350</td>\n",
       "      <td>19701011</td>\n",
       "      <td>19850215</td>\n",
       "      <td>1800</td>\n",
       "      <td>NULL</td>\n",
       "      <td>3</td>\n",
       "      <td>CESAR</td>\n",
       "      <td>121</td>\n",
       "    </tr>\n",
       "    <tr>\n",
       "      <th>1</th>\n",
       "      <td>120</td>\n",
       "      <td>840</td>\n",
       "      <td>19680906</td>\n",
       "      <td>19880110</td>\n",
       "      <td>1900</td>\n",
       "      <td>110</td>\n",
       "      <td>1</td>\n",
       "      <td>MARIO</td>\n",
       "      <td>112</td>\n",
       "    </tr>\n",
       "    <tr>\n",
       "      <th>2</th>\n",
       "      <td>130</td>\n",
       "      <td>810</td>\n",
       "      <td>19650909</td>\n",
       "      <td>19810102</td>\n",
       "      <td>1500</td>\n",
       "      <td>110</td>\n",
       "      <td>2</td>\n",
       "      <td>LUCIANO</td>\n",
       "      <td>112</td>\n",
       "    </tr>\n",
       "    <tr>\n",
       "      <th>3</th>\n",
       "      <td>150</td>\n",
       "      <td>340</td>\n",
       "      <td>19721008</td>\n",
       "      <td>19970115</td>\n",
       "      <td>2600</td>\n",
       "      <td>NULL</td>\n",
       "      <td>0</td>\n",
       "      <td>JULIO</td>\n",
       "      <td>121</td>\n",
       "    </tr>\n",
       "    <tr>\n",
       "      <th>4</th>\n",
       "      <td>160</td>\n",
       "      <td>740</td>\n",
       "      <td>19800907</td>\n",
       "      <td>20051111</td>\n",
       "      <td>1800</td>\n",
       "      <td>110</td>\n",
       "      <td>2</td>\n",
       "      <td>AUREO</td>\n",
       "      <td>111</td>\n",
       "    </tr>\n",
       "  </tbody>\n",
       "</table>\n",
       "</div>"
      ],
      "text/plain": [
       "   NUMEM  EXTEL     FECNA     FECIN  SALAR COMIS  NUMHI    NOMEM  NUMDE\n",
       "0    110    350  19701011  19850215   1800  NULL      3    CESAR    121\n",
       "1    120    840  19680906  19880110   1900   110      1    MARIO    112\n",
       "2    130    810  19650909  19810102   1500   110      2  LUCIANO    112\n",
       "3    150    340  19721008  19970115   2600  NULL      0    JULIO    121\n",
       "4    160    740  19800907  20051111   1800   110      2    AUREO    111"
      ]
     },
     "execution_count": 14,
     "metadata": {},
     "output_type": "execute_result"
    }
   ],
   "source": [
    "sql_query = 'SELECT * FROM \"EMPLEADOS\";'\n",
    "df_empleados = pd.read_sql(sql_query, postgres_driver)\n",
    "df_empleados.head()"
   ]
  },
  {
   "attachments": {},
   "cell_type": "markdown",
   "metadata": {},
   "source": [
    "### Creamos dimensión de Departamentos"
   ]
  },
  {
   "cell_type": "code",
   "execution_count": 15,
   "metadata": {},
   "outputs": [
    {
     "data": {
      "text/html": [
       "<div>\n",
       "<style scoped>\n",
       "    .dataframe tbody tr th:only-of-type {\n",
       "        vertical-align: middle;\n",
       "    }\n",
       "\n",
       "    .dataframe tbody tr th {\n",
       "        vertical-align: top;\n",
       "    }\n",
       "\n",
       "    .dataframe thead th {\n",
       "        text-align: right;\n",
       "    }\n",
       "</style>\n",
       "<table border=\"1\" class=\"dataframe\">\n",
       "  <thead>\n",
       "    <tr style=\"text-align: right;\">\n",
       "      <th></th>\n",
       "      <th>NUMDE</th>\n",
       "      <th>NUMCE</th>\n",
       "      <th>DIRCEC</th>\n",
       "      <th>TIDIR</th>\n",
       "      <th>PRESU</th>\n",
       "      <th>DEPDE</th>\n",
       "      <th>NOMDE</th>\n",
       "    </tr>\n",
       "  </thead>\n",
       "  <tbody>\n",
       "    <tr>\n",
       "      <th>0</th>\n",
       "      <td>100</td>\n",
       "      <td>10</td>\n",
       "      <td>260</td>\n",
       "      <td>P</td>\n",
       "      <td>72</td>\n",
       "      <td>NULL</td>\n",
       "      <td>DIRECCIÓN GENERAL</td>\n",
       "    </tr>\n",
       "    <tr>\n",
       "      <th>1</th>\n",
       "      <td>110</td>\n",
       "      <td>20</td>\n",
       "      <td>180</td>\n",
       "      <td>P</td>\n",
       "      <td>90</td>\n",
       "      <td>100</td>\n",
       "      <td>DIRECC.COMERCIAL</td>\n",
       "    </tr>\n",
       "    <tr>\n",
       "      <th>2</th>\n",
       "      <td>111</td>\n",
       "      <td>20</td>\n",
       "      <td>180</td>\n",
       "      <td>F</td>\n",
       "      <td>66</td>\n",
       "      <td>110</td>\n",
       "      <td>SECTOR INDUSTRIAL</td>\n",
       "    </tr>\n",
       "    <tr>\n",
       "      <th>3</th>\n",
       "      <td>112</td>\n",
       "      <td>20</td>\n",
       "      <td>270</td>\n",
       "      <td>P</td>\n",
       "      <td>54</td>\n",
       "      <td>110</td>\n",
       "      <td>SECTOR SERVICIOS</td>\n",
       "    </tr>\n",
       "    <tr>\n",
       "      <th>4</th>\n",
       "      <td>120</td>\n",
       "      <td>10</td>\n",
       "      <td>150</td>\n",
       "      <td>F</td>\n",
       "      <td>18</td>\n",
       "      <td>100</td>\n",
       "      <td>ORGANIZACIÓN</td>\n",
       "    </tr>\n",
       "  </tbody>\n",
       "</table>\n",
       "</div>"
      ],
      "text/plain": [
       "   NUMDE  NUMCE  DIRCEC TIDIR  PRESU DEPDE              NOMDE\n",
       "0    100     10     260     P     72  NULL  DIRECCIÓN GENERAL\n",
       "1    110     20     180     P     90   100   DIRECC.COMERCIAL\n",
       "2    111     20     180     F     66   110  SECTOR INDUSTRIAL\n",
       "3    112     20     270     P     54   110   SECTOR SERVICIOS\n",
       "4    120     10     150     F     18   100       ORGANIZACIÓN"
      ]
     },
     "execution_count": 15,
     "metadata": {},
     "output_type": "execute_result"
    }
   ],
   "source": [
    "sql_query = 'SELECT * FROM \"DEPARTAMENTOS\";'\n",
    "df_departamentos = pd.read_sql(sql_query, postgres_driver)\n",
    "df_departamentos.head()"
   ]
  },
  {
   "cell_type": "code",
   "execution_count": null,
   "metadata": {},
   "outputs": [],
   "source": []
  }
 ],
 "metadata": {
  "kernelspec": {
   "display_name": "claseviernes030223",
   "language": "python",
   "name": "python3"
  },
  "language_info": {
   "codemirror_mode": {
    "name": "ipython",
    "version": 3
   },
   "file_extension": ".py",
   "mimetype": "text/x-python",
   "name": "python",
   "nbconvert_exporter": "python",
   "pygments_lexer": "ipython3",
   "version": "3.8.16"
  },
  "orig_nbformat": 4,
  "vscode": {
   "interpreter": {
    "hash": "ce00b8029bfa6265f59e7e9263c64950406e93502b599814d296d7f51d8c05dd"
   }
  }
 },
 "nbformat": 4,
 "nbformat_minor": 2
}
