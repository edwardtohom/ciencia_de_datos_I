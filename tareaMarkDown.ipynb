{
 "cells": [
  {
   "attachments": {},
   "cell_type": "markdown",
   "metadata": {},
   "source": [
    "# **GIT/GITHUB**\n",
    "*E.S. Tohom Hernández*\n",
    "##### **23006412, Universidad Galileo**\n",
    "edwardtohom@galileo.edu\n"
   ]
  },
  {
   "attachments": {},
   "cell_type": "markdown",
   "metadata": {},
   "source": [
    "**Resumen**\n",
    "\n",
    "Git es un sistema de control de versiones utilizado para el seguimiento de los cambios en los archivos de una computadora, lo que lo convierte en una utilidad de primera categoría para los programadores de todo el mundo. Git puede manejar proyectos de cualquier tamaño.\n",
    "\n",
    "Git se utiliza para coordinar el flujo de trabajo entre los miembros del equipo del proyecto y realizar un seguimiento de su progreso a lo largo del tiempo. También beneficia tanto a los programadores como a los usuarios no técnicos al realizar un seguimiento de los archivos de sus proyectos. Git permite que varios usuarios trabajen juntos sin interrumpir el trabajo de los demás.\n",
    "GitHub es un servicio de alojamiento de repositorio Git que proporciona una interfaz gráfica basada en web. Es la comunidad de codificación más grande del mundo. Poner un código o un proyecto en GitHub trae una mayor exposición generalizada. Los programadores pueden encontrar códigos fuente en muchos lenguajes diferentes y usar la interfaz de línea de comandos, Git, para hacer y realizar un seguimiento de cualquier cambio.\n",
    "En conclusión, GitHub ayuda a todos los miembros del equipo a trabajar juntos en un proyecto desde cualquier ubicación al tiempo que facilita la colaboración. También puede revisar versiones anteriores creadas en un momento anterior.\n",
    "\n"
   ]
  },
  {
   "attachments": {},
   "cell_type": "markdown",
   "metadata": {},
   "source": [
    "**Palabras Claves**\n",
    "1. Git\n",
    "2. GitHub\n",
    "3. Código"
   ]
  }
 ],
 "metadata": {
  "kernelspec": {
   "display_name": "claseviernes030223",
   "language": "python",
   "name": "python3"
  },
  "language_info": {
   "name": "python",
   "version": "3.8.16 (default, Jan 17 2023, 22:25:28) [MSC v.1916 64 bit (AMD64)]"
  },
  "orig_nbformat": 4,
  "vscode": {
   "interpreter": {
    "hash": "ce00b8029bfa6265f59e7e9263c64950406e93502b599814d296d7f51d8c05dd"
   }
  }
 },
 "nbformat": 4,
 "nbformat_minor": 2
}
