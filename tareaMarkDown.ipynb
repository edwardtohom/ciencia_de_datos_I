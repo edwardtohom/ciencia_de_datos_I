{
 "cells": [
  {
   "attachments": {},
   "cell_type": "markdown",
   "metadata": {},
   "source": [
    "# **GIT/GITHUB**\n",
    "*E.S. Tohom Hernández*\n",
    "##### **23006412, Universidad Galileo**\n",
    "edwardtohom@galileo.edu\n"
   ]
  },
  {
   "attachments": {},
   "cell_type": "markdown",
   "metadata": {},
   "source": [
    "---"
   ]
  },
  {
   "attachments": {},
   "cell_type": "markdown",
   "metadata": {},
   "source": [
    "**Resumen**\n",
    "\n",
    "Git es un sistema de control de versiones utilizado para el seguimiento de los cambios en los archivos de una computadora, lo que lo convierte en una utilidad de primera categoría para los programadores de todo el mundo. Git puede manejar proyectos de cualquier tamaño.\n",
    "\n",
    "Git se utiliza para coordinar el flujo de trabajo entre los miembros del equipo del proyecto y realizar un seguimiento de su progreso a lo largo del tiempo. También beneficia tanto a los programadores como a los usuarios no técnicos al realizar un seguimiento de los archivos de sus proyectos. Git permite que varios usuarios trabajen juntos sin interrumpir el trabajo de los demás.\n",
    "GitHub es un servicio de alojamiento de repositorio Git que proporciona una interfaz gráfica basada en web. Es la comunidad de codificación más grande del mundo. Poner un código o un proyecto en GitHub trae una mayor exposición generalizada. Los programadores pueden encontrar códigos fuente en muchos lenguajes diferentes y usar la interfaz de línea de comandos, Git, para hacer y realizar un seguimiento de cualquier cambio.\n",
    "En conclusión, GitHub ayuda a todos los miembros del equipo a trabajar juntos en un proyecto desde cualquier ubicación al tiempo que facilita la colaboración. También puede revisar versiones anteriores creadas en un momento anterior.\n",
    "\n"
   ]
  },
  {
   "attachments": {},
   "cell_type": "markdown",
   "metadata": {},
   "source": [
    "**Palabras Claves**\n",
    "1. Git\n",
    "2. GitHub\n",
    "3. Código"
   ]
  },
  {
   "attachments": {},
   "cell_type": "markdown",
   "metadata": {},
   "source": [
    "**Desarrollo del tema**\n",
    "GitHub cuenta con varias características que ayuda a sea una plataforma interactiva, donde varias personas de un equipo pueden trabajar en sus versiones de proyecto y luego tener la opción de integrarlo a un solo proyecto, para ello, se describe las siguientes características:\n",
    "* **_Gestión de proyectos:_** es un lugar donde los gerentes de proyectos y desarrolladores se reúnen para coordinar, rastrear y actualizar su trabajo para que los proyectos sean transparentes y se mantengan en el calendario.\n",
    "* **_Mayor seguridad con los paquetes:_** Los paquetes se pueden publicar de forma privada, dentro del equipo o públicamente en la comunidad de código abierto. Los paquetes se pueden utilizar o reutilizar descargándolos desde GitHub.\n",
    "* **_Manejo de personal:_** GitHub ayuda a todos los miembros del equipo a mantenerse en la misma página y organizados. Las herramientas de moderación como el bloqueo de solicitudes de salida y extracción ayudan al equipo a centrarse en el código.\n",
    "* **_Mejora la redacción de código:_** Las solicitudes de extracción de ayudan a las organizaciones a revisar, desarrollar y proponer nuevo código. Los miembros del equipo pueden discutir cualquier implementación y propuesta a través de ellos antes de cambiar el código fuente\n",
    "* **_Seguridad con el código:_** GitHub utiliza herramientas dedicadas para identificar y analizar vulnerabilidades al código que otras herramientas tienden a pasar por alto. Los equipos de desarrollo de todo el mundo trabajan juntos para asegurar la cadena de suministro de software, de principio a fin.\n",
    "* **_Almacenamiento de código:_** Todo el código y la documentación están en un solo lugar. Hay millones de repositorios en GitHub, y cada repositorio tiene sus propias herramientas para ayudarte a alojar y liberar código.\n"
   ]
  },
  {
   "attachments": {},
   "cell_type": "markdown",
   "metadata": {},
   "source": [
    "\n",
    "**Modelo de datos en Git**\n",
    "\n",
    "A continuación, se muestra la versión simple del modelo de data de GIT:\n",
    "\n",
    "[![Img Alt Text](https://git-scm.com/book/en/v2/images/data-model-1.png)](https://git-scm.com/book/en/v2/images/data-model-1.png \"Video Title\")\n",
    "\n",
    "Figura1: Git - Git Objects. (s. f.-b). https://git-scm.com/book/en/v2/Git-Internals-Git-Objects\n",
    "\n",
    "Puedes crear fácilmente tu propio árbol. Git normalmente crea un árbol tomando el estado de su área temporal o índice y escribiendo una serie de objetos de árbol de él. Por lo tanto, para crear un objeto de árbol, primero tiene que configurar un índice almacenando algunos archivos.\n",
    "\n",
    "\n"
   ]
  },
  {
   "cell_type": "markdown",
   "metadata": {},
   "source": []
  }
 ],
 "metadata": {
  "kernelspec": {
   "display_name": "claseviernes030223",
   "language": "python",
   "name": "python3"
  },
  "language_info": {
   "name": "python",
   "version": "3.8.16 (default, Jan 17 2023, 22:25:28) [MSC v.1916 64 bit (AMD64)]"
  },
  "orig_nbformat": 4,
  "vscode": {
   "interpreter": {
    "hash": "ce00b8029bfa6265f59e7e9263c64950406e93502b599814d296d7f51d8c05dd"
   }
  }
 },
 "nbformat": 4,
 "nbformat_minor": 2
}
